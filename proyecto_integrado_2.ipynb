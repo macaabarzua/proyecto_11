{
 "cells": [
  {
   "cell_type": "markdown",
   "metadata": {},
   "source": [
    "# Hola &#x1F600;,\n",
    "\n",
    "Soy **Hesus Garcia** – **\"Soy el único Hesus que conoces (y probablemente conocerás) 🌟\"** – Sí, como \"Jesús\", pero con una H que me hace único. Puede sonar raro, pero créeme, ¡no lo olvidarás! Como tu revisor en Triple-Ten, estoy aquí para guiarte y ayudarte a mejorar tu código. Si algo necesita un ajuste, no hay de qué preocuparse; ¡aquí estoy para hacer que tu trabajo brille con todo su potencial! ✨\n",
    "\n",
    "Cada vez que encuentre un detalle importante en tu código, te lo señalaré para que puedas corregirlo y así te prepares para un ambiente de trabajo real, donde el líder de tu equipo actuaría de manera similar. Si en algún momento no logras solucionar el problema, te daré más detalles para ayudarte en nuestra próxima oportunidad de revisión.\n",
    "\n",
    "Es importante que cuando encuentres un comentario, **no los muevas, no los modifiques, ni los borres**.\n",
    "\n",
    "---\n",
    "\n",
    "### Formato de Comentarios\n",
    "\n",
    "Revisaré cuidadosamente cada implementación en tu notebook para asegurar que cumpla con los requisitos y te daré comentarios de acuerdo al siguiente formato:\n",
    "\n",
    "\n",
    "<div class=\"alert alert-block alert-success\">\n",
    "<b>Comentario del revisor</b> <a class=\"tocSkip\"></a><br>\n",
    "    \n",
    "<b>Éxito</b> - ¡Excelente trabajo! Esta parte está bien implementada y contribuye significativamente al análisis de datos o al proyecto. Continúa aplicando estas buenas prácticas en futuras secciones.\n",
    "    \n",
    "</div>\n",
    "\n",
    "<div class=\"alert alert-block alert-warning\">\n",
    "<b>Comentario del revisor</b> <a class=\"tocSkip\"></a><br>\n",
    "    \n",
    "<b>Atención</b> ⚠️ - Este código está correcto, pero se puede optimizar. Considera implementar mejoras para que sea más eficiente y fácil de leer. Esto fortalecerá la calidad de tu proyecto.\n",
    "    \n",
    "</div>\n",
    "\n",
    "<div class=\"alert alert-block alert-danger\">\n",
    "<b>Comentario del revisor</b> <a class=\"tocSkip\"></a><br>\n",
    "    \n",
    "<b>A resolver</b> ❗ - Aquí hay un problema o error en el código que es necesario corregir para aprobar esta sección. Por favor, revisa y corrige este punto, ya que es fundamental para la validez del análisis y la precisión de los resultados.\n",
    "    \n",
    "</div>\n",
    "\n",
    "---\n",
    "\n",
    "Al final de cada revisión, recibirás un **Comentario General del Revisor** que incluirá:\n",
    "\n",
    "- **Aspectos positivos:** Un resumen de los puntos fuertes de tu proyecto.\n",
    "- **Áreas de mejora:** Sugerencias sobre aspectos donde puedes mejorar.\n",
    "- **Temas adicionales para investigar:** Ideas de temas opcionales que puedes explorar por tu cuenta para desarrollar aún más tus habilidades.\n",
    "\n",
    "Estos temas adicionales no son obligatorios en esta etapa, pero pueden serte útiles para profundizar en el futuro.\n",
    "\n",
    "---\n",
    "\n",
    "\n",
    "Esta estructura en viñetas facilita la lectura y comprensión de cada parte del comentario final.\n",
    "\n",
    "También puedes responderme de la siguiente manera si tienes alguna duda o quieres aclarar algo específico:\n",
    "\n",
    "\n",
    "<div class=\"alert alert-block alert-info\">\n",
    "<b>Respuesta del estudiante</b> <a class=\"tocSkip\"></a>\n",
    "    \n",
    "Aquí puedes escribir tu respuesta o pregunta sobre el comentario.\n",
    "    \n",
    "</div>\n",
    "\n",
    "\n",
    "**¡Empecemos!** &#x1F680;\n",
    "\n",
    "\n",
    "\n",
    "\n"
   ]
  },
  {
   "cell_type": "markdown",
   "metadata": {},
   "source": [
    "# Proyecto integrado 2: Análisis basado en eventos"
   ]
  },
  {
   "cell_type": "markdown",
   "metadata": {},
   "source": [
    "## Introducción"
   ]
  },
  {
   "cell_type": "markdown",
   "metadata": {},
   "source": [
    "Proyecto que se desarrolla para una empresa emergente que vende productos alimenticios; se investigará el comportamiento del usuario para la aplicación de la empresa. Para esto, se estudiará primero el embudo de ventas (cómo los usuarios llegan a la etapa de compra). Posteriormente se realizará un test A/A/B para evaluar nuevas fuentes en el diseño de la aplicación."
   ]
  },
  {
   "cell_type": "markdown",
   "metadata": {},
   "source": [
    "## Descripción de los datos"
   ]
  },
  {
   "cell_type": "markdown",
   "metadata": {},
   "source": [
    "Cada entrada de registro es una acción de usuario o un evento.\n",
    "\n",
    "- EventName: nombre del evento.\n",
    "- DeviceIDHash: identificador de usuario unívoco.\n",
    "- EventTimestamp: hora del evento.\n",
    "- ExpId: número de experimento: 246 y 247 son los grupos de control, 248 es el grupo de prueba."
   ]
  },
  {
   "cell_type": "markdown",
   "metadata": {},
   "source": [
    "<div class=\"alert alert-block alert-success\">\n",
    "<b>Comentario del revisor</b> <a class=\"tocSkip\"></a>\n",
    "\n",
    "¡Excelente trabajo! Has iniciado muy bien con la carga y análisis preliminar de los datos. Estás enfocándote correctamente en los aspectos clave como la inspección de las variables, la identificación de los tipos de datos y la presencia de valores nulos. La identificación de las columnas clave, como `EventName`, `DeviceIDHash`, `EventTimestamp` y `ExpId`, es crucial para comprender la estructura de los eventos y el comportamiento del usuario. Sin embargo, te sugiero seguir con el preprocesamiento de datos, particularmente asegurándote de que las columnas de fecha estén en el formato adecuado para análisis posteriores y verificando si es necesario tratar los valores nulos o duplicados en los datos.\n",
    "\n",
    "Sigue así, estás en el camino correcto. ¡Estoy seguro de que el análisis detallado de los datos te dará excelentes resultados!\n",
    "\n",
    "</div>\n"
   ]
  },
  {
   "cell_type": "markdown",
   "metadata": {},
   "source": [
    "## Importar librerias"
   ]
  },
  {
   "cell_type": "code",
   "execution_count": 1,
   "metadata": {},
   "outputs": [],
   "source": [
    "import pandas as pd\n",
    "import numpy as np\n",
    "import matplotlib.pyplot as plt\n",
    "import seaborn as sns\n",
    "import scipy.stats as st\n",
    "import datetime as dt\n",
    "import math as mth"
   ]
  },
  {
   "cell_type": "code",
   "execution_count": 2,
   "metadata": {},
   "outputs": [],
   "source": [
    "# Cargar datos\n",
    "events = pd.read_csv('/datasets/logs_exp_us.csv', sep='\\t')"
   ]
  },
  {
   "cell_type": "code",
   "execution_count": 3,
   "metadata": {},
   "outputs": [
    {
     "data": {
      "text/html": [
       "<div>\n",
       "<style scoped>\n",
       "    .dataframe tbody tr th:only-of-type {\n",
       "        vertical-align: middle;\n",
       "    }\n",
       "\n",
       "    .dataframe tbody tr th {\n",
       "        vertical-align: top;\n",
       "    }\n",
       "\n",
       "    .dataframe thead th {\n",
       "        text-align: right;\n",
       "    }\n",
       "</style>\n",
       "<table border=\"1\" class=\"dataframe\">\n",
       "  <thead>\n",
       "    <tr style=\"text-align: right;\">\n",
       "      <th></th>\n",
       "      <th>EventName</th>\n",
       "      <th>DeviceIDHash</th>\n",
       "      <th>EventTimestamp</th>\n",
       "      <th>ExpId</th>\n",
       "    </tr>\n",
       "  </thead>\n",
       "  <tbody>\n",
       "    <tr>\n",
       "      <th>0</th>\n",
       "      <td>MainScreenAppear</td>\n",
       "      <td>4575588528974610257</td>\n",
       "      <td>1564029816</td>\n",
       "      <td>246</td>\n",
       "    </tr>\n",
       "    <tr>\n",
       "      <th>1</th>\n",
       "      <td>MainScreenAppear</td>\n",
       "      <td>7416695313311560658</td>\n",
       "      <td>1564053102</td>\n",
       "      <td>246</td>\n",
       "    </tr>\n",
       "    <tr>\n",
       "      <th>2</th>\n",
       "      <td>PaymentScreenSuccessful</td>\n",
       "      <td>3518123091307005509</td>\n",
       "      <td>1564054127</td>\n",
       "      <td>248</td>\n",
       "    </tr>\n",
       "    <tr>\n",
       "      <th>3</th>\n",
       "      <td>CartScreenAppear</td>\n",
       "      <td>3518123091307005509</td>\n",
       "      <td>1564054127</td>\n",
       "      <td>248</td>\n",
       "    </tr>\n",
       "    <tr>\n",
       "      <th>4</th>\n",
       "      <td>PaymentScreenSuccessful</td>\n",
       "      <td>6217807653094995999</td>\n",
       "      <td>1564055322</td>\n",
       "      <td>248</td>\n",
       "    </tr>\n",
       "    <tr>\n",
       "      <th>...</th>\n",
       "      <td>...</td>\n",
       "      <td>...</td>\n",
       "      <td>...</td>\n",
       "      <td>...</td>\n",
       "    </tr>\n",
       "    <tr>\n",
       "      <th>244121</th>\n",
       "      <td>MainScreenAppear</td>\n",
       "      <td>4599628364049201812</td>\n",
       "      <td>1565212345</td>\n",
       "      <td>247</td>\n",
       "    </tr>\n",
       "    <tr>\n",
       "      <th>244122</th>\n",
       "      <td>MainScreenAppear</td>\n",
       "      <td>5849806612437486590</td>\n",
       "      <td>1565212439</td>\n",
       "      <td>246</td>\n",
       "    </tr>\n",
       "    <tr>\n",
       "      <th>244123</th>\n",
       "      <td>MainScreenAppear</td>\n",
       "      <td>5746969938801999050</td>\n",
       "      <td>1565212483</td>\n",
       "      <td>246</td>\n",
       "    </tr>\n",
       "    <tr>\n",
       "      <th>244124</th>\n",
       "      <td>MainScreenAppear</td>\n",
       "      <td>5746969938801999050</td>\n",
       "      <td>1565212498</td>\n",
       "      <td>246</td>\n",
       "    </tr>\n",
       "    <tr>\n",
       "      <th>244125</th>\n",
       "      <td>OffersScreenAppear</td>\n",
       "      <td>5746969938801999050</td>\n",
       "      <td>1565212517</td>\n",
       "      <td>246</td>\n",
       "    </tr>\n",
       "  </tbody>\n",
       "</table>\n",
       "<p>244126 rows × 4 columns</p>\n",
       "</div>"
      ],
      "text/plain": [
       "                      EventName         DeviceIDHash  EventTimestamp  ExpId\n",
       "0              MainScreenAppear  4575588528974610257      1564029816    246\n",
       "1              MainScreenAppear  7416695313311560658      1564053102    246\n",
       "2       PaymentScreenSuccessful  3518123091307005509      1564054127    248\n",
       "3              CartScreenAppear  3518123091307005509      1564054127    248\n",
       "4       PaymentScreenSuccessful  6217807653094995999      1564055322    248\n",
       "...                         ...                  ...             ...    ...\n",
       "244121         MainScreenAppear  4599628364049201812      1565212345    247\n",
       "244122         MainScreenAppear  5849806612437486590      1565212439    246\n",
       "244123         MainScreenAppear  5746969938801999050      1565212483    246\n",
       "244124         MainScreenAppear  5746969938801999050      1565212498    246\n",
       "244125       OffersScreenAppear  5746969938801999050      1565212517    246\n",
       "\n",
       "[244126 rows x 4 columns]"
      ]
     },
     "execution_count": 3,
     "metadata": {},
     "output_type": "execute_result"
    }
   ],
   "source": [
    "events"
   ]
  },
  {
   "cell_type": "markdown",
   "metadata": {},
   "source": [
    "<div class=\"alert alert-block alert-success\">\n",
    "<b>Comentario del revisor</b> <a class=\"tocSkip\"></a><br>\n",
    "\n",
    "<b>Éxito</b> - Buen trabajo cargando las librerías necesarias y cargando el dataset correctamente. Has utilizado las librerías adecuadas para el análisis de datos y visualización. Asegúrate de revisar si el delimitador utilizado en el archivo es correcto, ya que el archivo tiene el separador de tabulación ('\\t') en lugar de comas.\n",
    "\n",
    "¡Sigue así!\n",
    "\n",
    "</div>\n"
   ]
  },
  {
   "cell_type": "markdown",
   "metadata": {},
   "source": [
    "## Preparar los datos"
   ]
  },
  {
   "cell_type": "code",
   "execution_count": 4,
   "metadata": {},
   "outputs": [],
   "source": [
    "# Cambiar nombres de columna cumpliendo con el formato PEP8\n",
    "events.columns = ['event', 'device_id_hash', 'time_event', 'exp_id']"
   ]
  },
  {
   "cell_type": "code",
   "execution_count": 5,
   "metadata": {},
   "outputs": [
    {
     "name": "stdout",
     "output_type": "stream",
     "text": [
      "<class 'pandas.core.frame.DataFrame'>\n",
      "RangeIndex: 244126 entries, 0 to 244125\n",
      "Data columns (total 4 columns):\n",
      " #   Column          Non-Null Count   Dtype \n",
      "---  ------          --------------   ----- \n",
      " 0   event           244126 non-null  object\n",
      " 1   device_id_hash  244126 non-null  int64 \n",
      " 2   time_event      244126 non-null  int64 \n",
      " 3   exp_id          244126 non-null  int64 \n",
      "dtypes: int64(3), object(1)\n",
      "memory usage: 7.5+ MB\n"
     ]
    }
   ],
   "source": [
    "events.info()"
   ]
  },
  {
   "cell_type": "markdown",
   "metadata": {},
   "source": [
    "No hay valores ausentes"
   ]
  },
  {
   "cell_type": "code",
   "execution_count": 6,
   "metadata": {},
   "outputs": [
    {
     "data": {
      "text/plain": [
       "413"
      ]
     },
     "execution_count": 6,
     "metadata": {},
     "output_type": "execute_result"
    }
   ],
   "source": [
    "# Buscar duplicados explícitos\n",
    "events.duplicated().sum()"
   ]
  },
  {
   "cell_type": "code",
   "execution_count": 7,
   "metadata": {},
   "outputs": [
    {
     "data": {
      "text/html": [
       "<div>\n",
       "<style scoped>\n",
       "    .dataframe tbody tr th:only-of-type {\n",
       "        vertical-align: middle;\n",
       "    }\n",
       "\n",
       "    .dataframe tbody tr th {\n",
       "        vertical-align: top;\n",
       "    }\n",
       "\n",
       "    .dataframe thead th {\n",
       "        text-align: right;\n",
       "    }\n",
       "</style>\n",
       "<table border=\"1\" class=\"dataframe\">\n",
       "  <thead>\n",
       "    <tr style=\"text-align: right;\">\n",
       "      <th></th>\n",
       "      <th>event</th>\n",
       "      <th>device_id_hash</th>\n",
       "      <th>time_event</th>\n",
       "      <th>exp_id</th>\n",
       "    </tr>\n",
       "  </thead>\n",
       "  <tbody>\n",
       "    <tr>\n",
       "      <th>0</th>\n",
       "      <td>MainScreenAppear</td>\n",
       "      <td>4575588528974610257</td>\n",
       "      <td>1564029816</td>\n",
       "      <td>246</td>\n",
       "    </tr>\n",
       "    <tr>\n",
       "      <th>1</th>\n",
       "      <td>MainScreenAppear</td>\n",
       "      <td>7416695313311560658</td>\n",
       "      <td>1564053102</td>\n",
       "      <td>246</td>\n",
       "    </tr>\n",
       "    <tr>\n",
       "      <th>2</th>\n",
       "      <td>PaymentScreenSuccessful</td>\n",
       "      <td>3518123091307005509</td>\n",
       "      <td>1564054127</td>\n",
       "      <td>248</td>\n",
       "    </tr>\n",
       "    <tr>\n",
       "      <th>3</th>\n",
       "      <td>CartScreenAppear</td>\n",
       "      <td>3518123091307005509</td>\n",
       "      <td>1564054127</td>\n",
       "      <td>248</td>\n",
       "    </tr>\n",
       "    <tr>\n",
       "      <th>4</th>\n",
       "      <td>PaymentScreenSuccessful</td>\n",
       "      <td>6217807653094995999</td>\n",
       "      <td>1564055322</td>\n",
       "      <td>248</td>\n",
       "    </tr>\n",
       "    <tr>\n",
       "      <th>...</th>\n",
       "      <td>...</td>\n",
       "      <td>...</td>\n",
       "      <td>...</td>\n",
       "      <td>...</td>\n",
       "    </tr>\n",
       "    <tr>\n",
       "      <th>244121</th>\n",
       "      <td>MainScreenAppear</td>\n",
       "      <td>4599628364049201812</td>\n",
       "      <td>1565212345</td>\n",
       "      <td>247</td>\n",
       "    </tr>\n",
       "    <tr>\n",
       "      <th>244122</th>\n",
       "      <td>MainScreenAppear</td>\n",
       "      <td>5849806612437486590</td>\n",
       "      <td>1565212439</td>\n",
       "      <td>246</td>\n",
       "    </tr>\n",
       "    <tr>\n",
       "      <th>244123</th>\n",
       "      <td>MainScreenAppear</td>\n",
       "      <td>5746969938801999050</td>\n",
       "      <td>1565212483</td>\n",
       "      <td>246</td>\n",
       "    </tr>\n",
       "    <tr>\n",
       "      <th>244124</th>\n",
       "      <td>MainScreenAppear</td>\n",
       "      <td>5746969938801999050</td>\n",
       "      <td>1565212498</td>\n",
       "      <td>246</td>\n",
       "    </tr>\n",
       "    <tr>\n",
       "      <th>244125</th>\n",
       "      <td>OffersScreenAppear</td>\n",
       "      <td>5746969938801999050</td>\n",
       "      <td>1565212517</td>\n",
       "      <td>246</td>\n",
       "    </tr>\n",
       "  </tbody>\n",
       "</table>\n",
       "<p>243713 rows × 4 columns</p>\n",
       "</div>"
      ],
      "text/plain": [
       "                          event       device_id_hash  time_event  exp_id\n",
       "0              MainScreenAppear  4575588528974610257  1564029816     246\n",
       "1              MainScreenAppear  7416695313311560658  1564053102     246\n",
       "2       PaymentScreenSuccessful  3518123091307005509  1564054127     248\n",
       "3              CartScreenAppear  3518123091307005509  1564054127     248\n",
       "4       PaymentScreenSuccessful  6217807653094995999  1564055322     248\n",
       "...                         ...                  ...         ...     ...\n",
       "244121         MainScreenAppear  4599628364049201812  1565212345     247\n",
       "244122         MainScreenAppear  5849806612437486590  1565212439     246\n",
       "244123         MainScreenAppear  5746969938801999050  1565212483     246\n",
       "244124         MainScreenAppear  5746969938801999050  1565212498     246\n",
       "244125       OffersScreenAppear  5746969938801999050  1565212517     246\n",
       "\n",
       "[243713 rows x 4 columns]"
      ]
     },
     "execution_count": 7,
     "metadata": {},
     "output_type": "execute_result"
    }
   ],
   "source": [
    "# Eliminar duplicados explícitos\n",
    "events.drop_duplicates()"
   ]
  },
  {
   "cell_type": "code",
   "execution_count": 8,
   "metadata": {},
   "outputs": [],
   "source": [
    "# Cambiar formato de datos de la columna \"time_event\"\n",
    "events['time_event'] = pd.to_datetime(events['time_event'], unit='s')"
   ]
  },
  {
   "cell_type": "code",
   "execution_count": 9,
   "metadata": {},
   "outputs": [],
   "source": [
    "# Agregar columna sólo con la fecha\n",
    "events['date'] = events['time_event'].dt.date"
   ]
  },
  {
   "cell_type": "code",
   "execution_count": 10,
   "metadata": {},
   "outputs": [
    {
     "data": {
      "text/html": [
       "<div>\n",
       "<style scoped>\n",
       "    .dataframe tbody tr th:only-of-type {\n",
       "        vertical-align: middle;\n",
       "    }\n",
       "\n",
       "    .dataframe tbody tr th {\n",
       "        vertical-align: top;\n",
       "    }\n",
       "\n",
       "    .dataframe thead th {\n",
       "        text-align: right;\n",
       "    }\n",
       "</style>\n",
       "<table border=\"1\" class=\"dataframe\">\n",
       "  <thead>\n",
       "    <tr style=\"text-align: right;\">\n",
       "      <th></th>\n",
       "      <th>event</th>\n",
       "      <th>device_id_hash</th>\n",
       "      <th>time_event</th>\n",
       "      <th>exp_id</th>\n",
       "      <th>date</th>\n",
       "    </tr>\n",
       "  </thead>\n",
       "  <tbody>\n",
       "    <tr>\n",
       "      <th>0</th>\n",
       "      <td>MainScreenAppear</td>\n",
       "      <td>4575588528974610257</td>\n",
       "      <td>2019-07-25 04:43:36</td>\n",
       "      <td>246</td>\n",
       "      <td>2019-07-25</td>\n",
       "    </tr>\n",
       "    <tr>\n",
       "      <th>1</th>\n",
       "      <td>MainScreenAppear</td>\n",
       "      <td>7416695313311560658</td>\n",
       "      <td>2019-07-25 11:11:42</td>\n",
       "      <td>246</td>\n",
       "      <td>2019-07-25</td>\n",
       "    </tr>\n",
       "    <tr>\n",
       "      <th>2</th>\n",
       "      <td>PaymentScreenSuccessful</td>\n",
       "      <td>3518123091307005509</td>\n",
       "      <td>2019-07-25 11:28:47</td>\n",
       "      <td>248</td>\n",
       "      <td>2019-07-25</td>\n",
       "    </tr>\n",
       "    <tr>\n",
       "      <th>3</th>\n",
       "      <td>CartScreenAppear</td>\n",
       "      <td>3518123091307005509</td>\n",
       "      <td>2019-07-25 11:28:47</td>\n",
       "      <td>248</td>\n",
       "      <td>2019-07-25</td>\n",
       "    </tr>\n",
       "    <tr>\n",
       "      <th>4</th>\n",
       "      <td>PaymentScreenSuccessful</td>\n",
       "      <td>6217807653094995999</td>\n",
       "      <td>2019-07-25 11:48:42</td>\n",
       "      <td>248</td>\n",
       "      <td>2019-07-25</td>\n",
       "    </tr>\n",
       "  </tbody>\n",
       "</table>\n",
       "</div>"
      ],
      "text/plain": [
       "                     event       device_id_hash          time_event  exp_id  \\\n",
       "0         MainScreenAppear  4575588528974610257 2019-07-25 04:43:36     246   \n",
       "1         MainScreenAppear  7416695313311560658 2019-07-25 11:11:42     246   \n",
       "2  PaymentScreenSuccessful  3518123091307005509 2019-07-25 11:28:47     248   \n",
       "3         CartScreenAppear  3518123091307005509 2019-07-25 11:28:47     248   \n",
       "4  PaymentScreenSuccessful  6217807653094995999 2019-07-25 11:48:42     248   \n",
       "\n",
       "         date  \n",
       "0  2019-07-25  \n",
       "1  2019-07-25  \n",
       "2  2019-07-25  \n",
       "3  2019-07-25  \n",
       "4  2019-07-25  "
      ]
     },
     "execution_count": 10,
     "metadata": {},
     "output_type": "execute_result"
    }
   ],
   "source": [
    "events.head()"
   ]
  },
  {
   "cell_type": "markdown",
   "metadata": {},
   "source": [
    "<div class=\"alert alert-block alert-success\">\n",
    "<b>Comentario del revisor</b> <a class=\"tocSkip\"></a><br>\n",
    "\n",
    "<b>Éxito</b> - Excelente trabajo limpiando y preparando los datos. Has renombrado las columnas siguiendo las convenciones de PEP8 y eliminando duplicados correctamente. Además, la conversión del formato de fecha y la creación de la columna \"date\" son pasos clave bien ejecutados.\n",
    "\n",
    "Sigue aplicando estas buenas prácticas en las siguientes fases.\n",
    "\n",
    "</div>\n"
   ]
  },
  {
   "cell_type": "markdown",
   "metadata": {},
   "source": [
    "## Análisis de los datos"
   ]
  },
  {
   "cell_type": "code",
   "execution_count": 11,
   "metadata": {},
   "outputs": [
    {
     "data": {
      "text/plain": [
       "array(['MainScreenAppear', 'PaymentScreenSuccessful', 'CartScreenAppear',\n",
       "       'OffersScreenAppear', 'Tutorial'], dtype=object)"
      ]
     },
     "execution_count": 11,
     "metadata": {},
     "output_type": "execute_result"
    }
   ],
   "source": [
    "# Cantidad de eventos\n",
    "events['event'].unique()"
   ]
  },
  {
   "cell_type": "markdown",
   "metadata": {},
   "source": [
    "Tenemos 5 eventos; \n",
    "- Tutorial\n",
    "- Pantalla Principal\n",
    "- Pantalla de Ofertas\n",
    "- Pantalla del Carrito de compras\n",
    "- Pantalla de Pago exitoso\n"
   ]
  },
  {
   "cell_type": "code",
   "execution_count": 12,
   "metadata": {},
   "outputs": [
    {
     "data": {
      "text/plain": [
       "'Hay 7551 usuarios únicos en el registro'"
      ]
     },
     "execution_count": 12,
     "metadata": {},
     "output_type": "execute_result"
    }
   ],
   "source": [
    "# Cantidad de usuarios\n",
    "count = events['device_id_hash'].nunique()\n",
    "f\"Hay {count} usuarios únicos en el registro\""
   ]
  },
  {
   "cell_type": "code",
   "execution_count": 13,
   "metadata": {},
   "outputs": [
    {
     "data": {
      "text/html": [
       "<div>\n",
       "<style scoped>\n",
       "    .dataframe tbody tr th:only-of-type {\n",
       "        vertical-align: middle;\n",
       "    }\n",
       "\n",
       "    .dataframe tbody tr th {\n",
       "        vertical-align: top;\n",
       "    }\n",
       "\n",
       "    .dataframe thead th {\n",
       "        text-align: right;\n",
       "    }\n",
       "</style>\n",
       "<table border=\"1\" class=\"dataframe\">\n",
       "  <thead>\n",
       "    <tr style=\"text-align: right;\">\n",
       "      <th></th>\n",
       "      <th>exp_id</th>\n",
       "      <th>device_id_hash</th>\n",
       "    </tr>\n",
       "  </thead>\n",
       "  <tbody>\n",
       "    <tr>\n",
       "      <th>0</th>\n",
       "      <td>246</td>\n",
       "      <td>2489</td>\n",
       "    </tr>\n",
       "    <tr>\n",
       "      <th>1</th>\n",
       "      <td>247</td>\n",
       "      <td>2520</td>\n",
       "    </tr>\n",
       "    <tr>\n",
       "      <th>2</th>\n",
       "      <td>248</td>\n",
       "      <td>2542</td>\n",
       "    </tr>\n",
       "  </tbody>\n",
       "</table>\n",
       "</div>"
      ],
      "text/plain": [
       "   exp_id  device_id_hash\n",
       "0     246            2489\n",
       "1     247            2520\n",
       "2     248            2542"
      ]
     },
     "execution_count": 13,
     "metadata": {},
     "output_type": "execute_result"
    }
   ],
   "source": [
    "# Cantidad de usuarios por grupo\n",
    "users_group = events.groupby('exp_id', as_index=False).agg({'device_id_hash':'nunique'})\n",
    "users_group"
   ]
  },
  {
   "cell_type": "code",
   "execution_count": 14,
   "metadata": {},
   "outputs": [
    {
     "data": {
      "text/plain": [
       "32.33028737915508"
      ]
     },
     "execution_count": 14,
     "metadata": {},
     "output_type": "execute_result"
    }
   ],
   "source": [
    "# Promedio de eventos por usuario\n",
    "event_by_user = events.groupby('device_id_hash', as_index=False).agg({'event':'count'}) \n",
    "\n",
    "event_by_user['event'].mean()"
   ]
  },
  {
   "cell_type": "code",
   "execution_count": 15,
   "metadata": {},
   "outputs": [
    {
     "data": {
      "text/plain": [
       "Timestamp('2019-07-25 04:43:36')"
      ]
     },
     "execution_count": 15,
     "metadata": {},
     "output_type": "execute_result"
    }
   ],
   "source": [
    "# Período de tiempo que cubren los datos\n",
    "events['time_event'].min()"
   ]
  },
  {
   "cell_type": "code",
   "execution_count": 16,
   "metadata": {},
   "outputs": [
    {
     "data": {
      "text/plain": [
       "Timestamp('2019-08-07 21:15:17')"
      ]
     },
     "execution_count": 16,
     "metadata": {},
     "output_type": "execute_result"
    }
   ],
   "source": [
    "events['time_event'].max()"
   ]
  },
  {
   "cell_type": "code",
   "execution_count": 55,
   "metadata": {},
   "outputs": [
    {
     "data": {
      "image/png": "[encoded data removed]",
      "text/plain": [
       "<Figure size 640x480 with 1 Axes>"
      ]
     },
     "metadata": {},
     "output_type": "display_data"
    }
   ],
   "source": [
    "# Datos para el período\n",
    "plt.hist(events['time_event'])\n",
    "plt.xticks(rotation=45)\n",
    "plt.title('Fechas en las que se contemplan los datos')\n",
    "plt.show()"
   ]
  },
  {
   "cell_type": "markdown",
   "metadata": {},
   "source": [
    "La diferencia en el volumne de datos desde el 01/08 es notoriamente mayor y consistente para las fechas siguientes, en comparación a la cantidad de datos que se tienen entre el 25 y 31/07, datos que podrían estar en los registros quizá por algún error. Por ello, para el análisis se considerarán sólo los datos a partir del 01/08"
   ]
  },
  {
   "cell_type": "markdown",
   "metadata": {},
   "source": [
    "<div class=\"alert alert-block alert-success\">\n",
    "<b>Comentario del revisor</b> <a class=\"tocSkip\"></a><br>\n",
    "\n",
    "<b>Éxito</b> - Has realizado un análisis adecuado para comprender los datos: identificando eventos únicos, calculando la cantidad de usuarios por grupo y el promedio de eventos por usuario. También has manejado correctamente el período de tiempo y visualizado los datos para detectar posibles inconsistencias. La identificación de los errores en el período de tiempo y la decisión de utilizar los datos a partir del 01/08 es un paso acertado.\n",
    "\n",
    "Sigue así, está siendo muy claro y organizado.\n",
    "\n",
    "</div>\n"
   ]
  },
  {
   "cell_type": "code",
   "execution_count": 18,
   "metadata": {},
   "outputs": [
    {
     "data": {
      "text/html": [
       "<div>\n",
       "<style scoped>\n",
       "    .dataframe tbody tr th:only-of-type {\n",
       "        vertical-align: middle;\n",
       "    }\n",
       "\n",
       "    .dataframe tbody tr th {\n",
       "        vertical-align: top;\n",
       "    }\n",
       "\n",
       "    .dataframe thead th {\n",
       "        text-align: right;\n",
       "    }\n",
       "</style>\n",
       "<table border=\"1\" class=\"dataframe\">\n",
       "  <thead>\n",
       "    <tr style=\"text-align: right;\">\n",
       "      <th></th>\n",
       "      <th>event</th>\n",
       "      <th>device_id_hash</th>\n",
       "      <th>time_event</th>\n",
       "      <th>exp_id</th>\n",
       "      <th>date</th>\n",
       "    </tr>\n",
       "  </thead>\n",
       "  <tbody>\n",
       "    <tr>\n",
       "      <th>2828</th>\n",
       "      <td>Tutorial</td>\n",
       "      <td>3737462046622621720</td>\n",
       "      <td>2019-08-01 00:07:28</td>\n",
       "      <td>246</td>\n",
       "      <td>2019-08-01</td>\n",
       "    </tr>\n",
       "    <tr>\n",
       "      <th>2829</th>\n",
       "      <td>MainScreenAppear</td>\n",
       "      <td>3737462046622621720</td>\n",
       "      <td>2019-08-01 00:08:00</td>\n",
       "      <td>246</td>\n",
       "      <td>2019-08-01</td>\n",
       "    </tr>\n",
       "    <tr>\n",
       "      <th>2830</th>\n",
       "      <td>MainScreenAppear</td>\n",
       "      <td>3737462046622621720</td>\n",
       "      <td>2019-08-01 00:08:55</td>\n",
       "      <td>246</td>\n",
       "      <td>2019-08-01</td>\n",
       "    </tr>\n",
       "    <tr>\n",
       "      <th>2831</th>\n",
       "      <td>OffersScreenAppear</td>\n",
       "      <td>3737462046622621720</td>\n",
       "      <td>2019-08-01 00:08:58</td>\n",
       "      <td>246</td>\n",
       "      <td>2019-08-01</td>\n",
       "    </tr>\n",
       "    <tr>\n",
       "      <th>2832</th>\n",
       "      <td>MainScreenAppear</td>\n",
       "      <td>1433840883824088890</td>\n",
       "      <td>2019-08-01 00:08:59</td>\n",
       "      <td>247</td>\n",
       "      <td>2019-08-01</td>\n",
       "    </tr>\n",
       "    <tr>\n",
       "      <th>...</th>\n",
       "      <td>...</td>\n",
       "      <td>...</td>\n",
       "      <td>...</td>\n",
       "      <td>...</td>\n",
       "      <td>...</td>\n",
       "    </tr>\n",
       "    <tr>\n",
       "      <th>244121</th>\n",
       "      <td>MainScreenAppear</td>\n",
       "      <td>4599628364049201812</td>\n",
       "      <td>2019-08-07 21:12:25</td>\n",
       "      <td>247</td>\n",
       "      <td>2019-08-07</td>\n",
       "    </tr>\n",
       "    <tr>\n",
       "      <th>244122</th>\n",
       "      <td>MainScreenAppear</td>\n",
       "      <td>5849806612437486590</td>\n",
       "      <td>2019-08-07 21:13:59</td>\n",
       "      <td>246</td>\n",
       "      <td>2019-08-07</td>\n",
       "    </tr>\n",
       "    <tr>\n",
       "      <th>244123</th>\n",
       "      <td>MainScreenAppear</td>\n",
       "      <td>5746969938801999050</td>\n",
       "      <td>2019-08-07 21:14:43</td>\n",
       "      <td>246</td>\n",
       "      <td>2019-08-07</td>\n",
       "    </tr>\n",
       "    <tr>\n",
       "      <th>244124</th>\n",
       "      <td>MainScreenAppear</td>\n",
       "      <td>5746969938801999050</td>\n",
       "      <td>2019-08-07 21:14:58</td>\n",
       "      <td>246</td>\n",
       "      <td>2019-08-07</td>\n",
       "    </tr>\n",
       "    <tr>\n",
       "      <th>244125</th>\n",
       "      <td>OffersScreenAppear</td>\n",
       "      <td>5746969938801999050</td>\n",
       "      <td>2019-08-07 21:15:17</td>\n",
       "      <td>246</td>\n",
       "      <td>2019-08-07</td>\n",
       "    </tr>\n",
       "  </tbody>\n",
       "</table>\n",
       "<p>241298 rows × 5 columns</p>\n",
       "</div>"
      ],
      "text/plain": [
       "                     event       device_id_hash          time_event  exp_id  \\\n",
       "2828              Tutorial  3737462046622621720 2019-08-01 00:07:28     246   \n",
       "2829      MainScreenAppear  3737462046622621720 2019-08-01 00:08:00     246   \n",
       "2830      MainScreenAppear  3737462046622621720 2019-08-01 00:08:55     246   \n",
       "2831    OffersScreenAppear  3737462046622621720 2019-08-01 00:08:58     246   \n",
       "2832      MainScreenAppear  1433840883824088890 2019-08-01 00:08:59     247   \n",
       "...                    ...                  ...                 ...     ...   \n",
       "244121    MainScreenAppear  4599628364049201812 2019-08-07 21:12:25     247   \n",
       "244122    MainScreenAppear  5849806612437486590 2019-08-07 21:13:59     246   \n",
       "244123    MainScreenAppear  5746969938801999050 2019-08-07 21:14:43     246   \n",
       "244124    MainScreenAppear  5746969938801999050 2019-08-07 21:14:58     246   \n",
       "244125  OffersScreenAppear  5746969938801999050 2019-08-07 21:15:17     246   \n",
       "\n",
       "              date  \n",
       "2828    2019-08-01  \n",
       "2829    2019-08-01  \n",
       "2830    2019-08-01  \n",
       "2831    2019-08-01  \n",
       "2832    2019-08-01  \n",
       "...            ...  \n",
       "244121  2019-08-07  \n",
       "244122  2019-08-07  \n",
       "244123  2019-08-07  \n",
       "244124  2019-08-07  \n",
       "244125  2019-08-07  \n",
       "\n",
       "[241298 rows x 5 columns]"
      ]
     },
     "execution_count": 18,
     "metadata": {},
     "output_type": "execute_result"
    }
   ],
   "source": [
    "# Filtrar datos por fecha; desde el 2019-08-01\n",
    "events_filtered = events[events['time_event'] >= '2019-08-01']\n",
    "events_filtered"
   ]
  },
  {
   "cell_type": "code",
   "execution_count": 19,
   "metadata": {},
   "outputs": [
    {
     "data": {
      "text/html": [
       "<div>\n",
       "<style scoped>\n",
       "    .dataframe tbody tr th:only-of-type {\n",
       "        vertical-align: middle;\n",
       "    }\n",
       "\n",
       "    .dataframe tbody tr th {\n",
       "        vertical-align: top;\n",
       "    }\n",
       "\n",
       "    .dataframe thead th {\n",
       "        text-align: right;\n",
       "    }\n",
       "</style>\n",
       "<table border=\"1\" class=\"dataframe\">\n",
       "  <thead>\n",
       "    <tr style=\"text-align: right;\">\n",
       "      <th></th>\n",
       "      <th>exp_id</th>\n",
       "      <th>device_id_hash</th>\n",
       "    </tr>\n",
       "  </thead>\n",
       "  <tbody>\n",
       "    <tr>\n",
       "      <th>0</th>\n",
       "      <td>246</td>\n",
       "      <td>2484</td>\n",
       "    </tr>\n",
       "    <tr>\n",
       "      <th>1</th>\n",
       "      <td>247</td>\n",
       "      <td>2513</td>\n",
       "    </tr>\n",
       "    <tr>\n",
       "      <th>2</th>\n",
       "      <td>248</td>\n",
       "      <td>2537</td>\n",
       "    </tr>\n",
       "  </tbody>\n",
       "</table>\n",
       "</div>"
      ],
      "text/plain": [
       "   exp_id  device_id_hash\n",
       "0     246            2484\n",
       "1     247            2513\n",
       "2     248            2537"
      ]
     },
     "execution_count": 19,
     "metadata": {},
     "output_type": "execute_result"
    }
   ],
   "source": [
    " # Cantidad de usuarios por grupo tras filtrar los datos por fecha\n",
    "filtered_group = events_filtered.groupby('exp_id', as_index=False).agg({'device_id_hash':'nunique'})\n",
    "filtered_group"
   ]
  },
  {
   "cell_type": "code",
   "execution_count": 20,
   "metadata": {},
   "outputs": [
    {
     "data": {
      "text/html": [
       "<div>\n",
       "<style scoped>\n",
       "    .dataframe tbody tr th:only-of-type {\n",
       "        vertical-align: middle;\n",
       "    }\n",
       "\n",
       "    .dataframe tbody tr th {\n",
       "        vertical-align: top;\n",
       "    }\n",
       "\n",
       "    .dataframe thead th {\n",
       "        text-align: right;\n",
       "    }\n",
       "</style>\n",
       "<table border=\"1\" class=\"dataframe\">\n",
       "  <thead>\n",
       "    <tr style=\"text-align: right;\">\n",
       "      <th></th>\n",
       "      <th>exp_id</th>\n",
       "      <th>device_id_hash_x</th>\n",
       "      <th>device_id_hash_y</th>\n",
       "    </tr>\n",
       "  </thead>\n",
       "  <tbody>\n",
       "    <tr>\n",
       "      <th>0</th>\n",
       "      <td>246</td>\n",
       "      <td>2489</td>\n",
       "      <td>2484</td>\n",
       "    </tr>\n",
       "    <tr>\n",
       "      <th>1</th>\n",
       "      <td>247</td>\n",
       "      <td>2520</td>\n",
       "      <td>2513</td>\n",
       "    </tr>\n",
       "    <tr>\n",
       "      <th>2</th>\n",
       "      <td>248</td>\n",
       "      <td>2542</td>\n",
       "      <td>2537</td>\n",
       "    </tr>\n",
       "  </tbody>\n",
       "</table>\n",
       "</div>"
      ],
      "text/plain": [
       "   exp_id  device_id_hash_x  device_id_hash_y\n",
       "0     246              2489              2484\n",
       "1     247              2520              2513\n",
       "2     248              2542              2537"
      ]
     },
     "execution_count": 20,
     "metadata": {},
     "output_type": "execute_result"
    }
   ],
   "source": [
    "# Comparación cantidad de usuarios por grupo antes y después de filtrar datos por fecha\n",
    "users_group.merge(filtered_group, on='exp_id')"
   ]
  },
  {
   "cell_type": "markdown",
   "metadata": {},
   "source": [
    "Al excluir los datos de fecha anterior al 01/08 sólo se pierde el 0.2% de usuarios en cada grupo, y para el volumen total de datos -considerando que previo al filtrado teníamos 243713 filas de datos, y luego 241298- sólo se traduce en una pérdida del 1% de los datos."
   ]
  },
  {
   "cell_type": "markdown",
   "metadata": {},
   "source": [
    "<div class=\"alert alert-block alert-success\">\n",
    "<b>Comentario del revisor</b> <a class=\"tocSkip\"></a><br>\n",
    "\n",
    "<b>Éxito</b> - Has realizado una correcta filtración de los datos para asegurar que solo se utilicen registros relevantes a partir del 01/08. Además, has validado que la pérdida de usuarios y datos es mínima, lo que justifica la decisión de excluir los datos previos. Esta es una forma efectiva de mejorar la calidad de tu análisis sin comprometer significativamente el volumen de la muestra.\n",
    "\n",
    "Muy bien hecho, continúa con este enfoque de validación.\n",
    "\n",
    "</div>\n"
   ]
  },
  {
   "cell_type": "markdown",
   "metadata": {},
   "source": [
    "## Embudo de eventos"
   ]
  },
  {
   "cell_type": "code",
   "execution_count": 21,
   "metadata": {},
   "outputs": [
    {
     "data": {
      "text/plain": [
       "MainScreenAppear           117431\n",
       "OffersScreenAppear          46350\n",
       "CartScreenAppear            42365\n",
       "PaymentScreenSuccessful     34113\n",
       "Tutorial                     1039\n",
       "Name: event, dtype: int64"
      ]
     },
     "execution_count": 21,
     "metadata": {},
     "output_type": "execute_result"
    }
   ],
   "source": [
    "# Frecuencia de suceso de cada evento \n",
    "events_filtered['event'].value_counts()"
   ]
  },
  {
   "cell_type": "code",
   "execution_count": 22,
   "metadata": {},
   "outputs": [
    {
     "data": {
      "text/plain": [
       "MainScreenAppear           0.486664\n",
       "OffersScreenAppear         0.192086\n",
       "CartScreenAppear           0.175571\n",
       "PaymentScreenSuccessful    0.141373\n",
       "Tutorial                   0.004306\n",
       "Name: event, dtype: float64"
      ]
     },
     "execution_count": 22,
     "metadata": {},
     "output_type": "execute_result"
    }
   ],
   "source": [
    "# Frecuencia relativa de cada evento\n",
    "events_filtered['event'].value_counts(normalize=True)"
   ]
  },
  {
   "cell_type": "code",
   "execution_count": 23,
   "metadata": {},
   "outputs": [
    {
     "data": {
      "text/html": [
       "<div>\n",
       "<style scoped>\n",
       "    .dataframe tbody tr th:only-of-type {\n",
       "        vertical-align: middle;\n",
       "    }\n",
       "\n",
       "    .dataframe tbody tr th {\n",
       "        vertical-align: top;\n",
       "    }\n",
       "\n",
       "    .dataframe thead th {\n",
       "        text-align: right;\n",
       "    }\n",
       "</style>\n",
       "<table border=\"1\" class=\"dataframe\">\n",
       "  <thead>\n",
       "    <tr style=\"text-align: right;\">\n",
       "      <th></th>\n",
       "      <th>event</th>\n",
       "      <th>device_id_hash</th>\n",
       "    </tr>\n",
       "  </thead>\n",
       "  <tbody>\n",
       "    <tr>\n",
       "      <th>0</th>\n",
       "      <td>MainScreenAppear</td>\n",
       "      <td>7419</td>\n",
       "    </tr>\n",
       "    <tr>\n",
       "      <th>1</th>\n",
       "      <td>OffersScreenAppear</td>\n",
       "      <td>4593</td>\n",
       "    </tr>\n",
       "    <tr>\n",
       "      <th>2</th>\n",
       "      <td>CartScreenAppear</td>\n",
       "      <td>3734</td>\n",
       "    </tr>\n",
       "    <tr>\n",
       "      <th>3</th>\n",
       "      <td>PaymentScreenSuccessful</td>\n",
       "      <td>3539</td>\n",
       "    </tr>\n",
       "    <tr>\n",
       "      <th>4</th>\n",
       "      <td>Tutorial</td>\n",
       "      <td>840</td>\n",
       "    </tr>\n",
       "  </tbody>\n",
       "</table>\n",
       "</div>"
      ],
      "text/plain": [
       "                     event  device_id_hash\n",
       "0         MainScreenAppear            7419\n",
       "1       OffersScreenAppear            4593\n",
       "2         CartScreenAppear            3734\n",
       "3  PaymentScreenSuccessful            3539\n",
       "4                 Tutorial             840"
      ]
     },
     "execution_count": 23,
     "metadata": {},
     "output_type": "execute_result"
    }
   ],
   "source": [
    "# Cantidad de usuarios únicos que realizaron cada evento\n",
    "users_by_event = (\n",
    "    events_filtered.groupby('event', as_index=False)\n",
    "    .agg({'device_id_hash':'nunique'})\n",
    "    .sort_values(by='device_id_hash', ascending=False)\n",
    ")\n",
    "users_by_event.reset_index(drop=True, inplace=True)\n",
    "users_by_event"
   ]
  },
  {
   "cell_type": "code",
   "execution_count": 24,
   "metadata": {},
   "outputs": [
    {
     "data": {
      "image/png": "[encoded data removed]",
      "text/plain": [
       "<Figure size 640x480 with 1 Axes>"
      ]
     },
     "metadata": {},
     "output_type": "display_data"
    }
   ],
   "source": [
    "# Graficar cantidad de usuarios por evento\n",
    "plt.style.use(\"dark_background\")\n",
    "plt.xticks(rotation=45)\n",
    "ax = sns.barplot(x='event', y='device_id_hash', data=users_by_event)\n",
    "ax.set_xlabel('Event')\n",
    "ax.set_ylabel('Number of users')\n",
    "ax.set_title('Embudo de eventos')\n",
    "plt.show()"
   ]
  },
  {
   "cell_type": "markdown",
   "metadata": {},
   "source": [
    "- ¿En qué orden ocurrieron las acciones? ¿Todas son parte de una sola secuencia?  \n",
    "\n",
    "Probablemente no exista una secuencia única en el orden de los eventos para todos los usuarios.  \n",
    "Sin embargo, considerando los eventos del registro, todos aquellos que compraron tendrán como evento final la pantalla de pago exitosa, pero dependiendo de los canales de marketing y si el usuario ya es cliente o no, algunos pueden haber accedido directamente a la pantalla principal, mientras que otros podrían acceder primero a la pantalla de ofertas."
   ]
  },
  {
   "cell_type": "markdown",
   "metadata": {},
   "source": [
    "<div class=\"alert alert-block alert-success\">\n",
    "<b>Comentario del revisor</b> <a class=\"tocSkip\"></a><br>\n",
    "\n",
    "<b>Éxito</b> - Has abordado de manera adecuada el análisis de los eventos, mostrando un buen entendimiento de cómo los usuarios interactúan con la aplicación. La visualización del embudo de eventos proporciona una excelente perspectiva de las etapas por las que pasan los usuarios, lo que es útil para futuras decisiones sobre la optimización de la aplicación. \n",
    "\n",
    "Sin embargo, has reconocido que no existe una secuencia única para todos los usuarios, lo cual es un punto clave para entender el comportamiento diversificado. Bien hecho al integrar esta observación con los posibles canales de marketing y tipos de usuario.\n",
    "\n",
    "Continúa profundizando en los patrones y secuencias de eventos para mejorar el análisis.\n",
    "\n",
    "</div>\n"
   ]
  },
  {
   "cell_type": "code",
   "execution_count": 25,
   "metadata": {},
   "outputs": [],
   "source": [
    "# Encontrar la proporción de usuarios que pasan de una etapa a la siguiente\n",
    "users_by_event['total_conversion'] = (users_by_event['device_id_hash'] / \n",
    "                                        users_by_event['device_id_hash'][0]) * 100"
   ]
  },
  {
   "cell_type": "code",
   "execution_count": 26,
   "metadata": {},
   "outputs": [],
   "source": [
    "# Tasa de conversión a la siguiente etapa\n",
    "users_by_event['conversion_previus_stage'] = users_by_event['device_id_hash'] / users_by_event['device_id_hash'].shift() * 100"
   ]
  },
  {
   "cell_type": "code",
   "execution_count": 27,
   "metadata": {},
   "outputs": [
    {
     "data": {
      "text/html": [
       "<div>\n",
       "<style scoped>\n",
       "    .dataframe tbody tr th:only-of-type {\n",
       "        vertical-align: middle;\n",
       "    }\n",
       "\n",
       "    .dataframe tbody tr th {\n",
       "        vertical-align: top;\n",
       "    }\n",
       "\n",
       "    .dataframe thead th {\n",
       "        text-align: right;\n",
       "    }\n",
       "</style>\n",
       "<table border=\"1\" class=\"dataframe\">\n",
       "  <thead>\n",
       "    <tr style=\"text-align: right;\">\n",
       "      <th></th>\n",
       "      <th>event</th>\n",
       "      <th>device_id_hash</th>\n",
       "      <th>total_conversion</th>\n",
       "      <th>conversion_previus_stage</th>\n",
       "    </tr>\n",
       "  </thead>\n",
       "  <tbody>\n",
       "    <tr>\n",
       "      <th>0</th>\n",
       "      <td>MainScreenAppear</td>\n",
       "      <td>7419</td>\n",
       "      <td>100.000000</td>\n",
       "      <td>NaN</td>\n",
       "    </tr>\n",
       "    <tr>\n",
       "      <th>1</th>\n",
       "      <td>OffersScreenAppear</td>\n",
       "      <td>4593</td>\n",
       "      <td>61.908613</td>\n",
       "      <td>61.908613</td>\n",
       "    </tr>\n",
       "    <tr>\n",
       "      <th>2</th>\n",
       "      <td>CartScreenAppear</td>\n",
       "      <td>3734</td>\n",
       "      <td>50.330233</td>\n",
       "      <td>81.297627</td>\n",
       "    </tr>\n",
       "    <tr>\n",
       "      <th>3</th>\n",
       "      <td>PaymentScreenSuccessful</td>\n",
       "      <td>3539</td>\n",
       "      <td>47.701847</td>\n",
       "      <td>94.777718</td>\n",
       "    </tr>\n",
       "    <tr>\n",
       "      <th>4</th>\n",
       "      <td>Tutorial</td>\n",
       "      <td>840</td>\n",
       "      <td>11.322281</td>\n",
       "      <td>23.735519</td>\n",
       "    </tr>\n",
       "  </tbody>\n",
       "</table>\n",
       "</div>"
      ],
      "text/plain": [
       "                     event  device_id_hash  total_conversion  \\\n",
       "0         MainScreenAppear            7419        100.000000   \n",
       "1       OffersScreenAppear            4593         61.908613   \n",
       "2         CartScreenAppear            3734         50.330233   \n",
       "3  PaymentScreenSuccessful            3539         47.701847   \n",
       "4                 Tutorial             840         11.322281   \n",
       "\n",
       "   conversion_previus_stage  \n",
       "0                       NaN  \n",
       "1                 61.908613  \n",
       "2                 81.297627  \n",
       "3                 94.777718  \n",
       "4                 23.735519  "
      ]
     },
     "execution_count": 27,
     "metadata": {},
     "output_type": "execute_result"
    }
   ],
   "source": [
    "users_by_event"
   ]
  },
  {
   "cell_type": "markdown",
   "metadata": {},
   "source": [
    "- En qué etapa se pierden más usuarios?  \n",
    "En la etapa del \"Tutorial\", son muy pocos los usuarios que llegan a este evento."
   ]
  },
  {
   "cell_type": "code",
   "execution_count": 28,
   "metadata": {},
   "outputs": [
    {
     "data": {
      "text/plain": [
       "'0.47701846610055265 usuarios realizan el viaje completo; desde su primer evento hasta el pago'"
      ]
     },
     "execution_count": 28,
     "metadata": {},
     "output_type": "execute_result"
    }
   ],
   "source": [
    "# Qué porcentaje de usuarios hace todo el viaje desde su primer evento hasta el pago?\n",
    "'{} usuarios realizan el viaje completo; desde su primer evento hasta el pago'.format(\n",
    "    (users_by_event.loc[3, 'device_id_hash'] / users_by_event.loc[0, 'device_id_hash'])\n",
    ")"
   ]
  },
  {
   "cell_type": "markdown",
   "metadata": {},
   "source": [
    "<div class=\"alert alert-block alert-success\">\n",
    "<b>Comentario del revisor</b> <a class=\"tocSkip\"></a><br>\n",
    "\n",
    "<b>Éxito</b> - El cálculo de la tasa de conversión entre las etapas está muy bien ejecutado y proporciona una visión clara de cómo los usuarios progresan a través del embudo. Has identificado correctamente la mayor pérdida de usuarios en la etapa del \"Tutorial\", lo que es un hallazgo importante. Además, al calcular el porcentaje de usuarios que completan todo el recorrido hasta el pago, estás obteniendo datos valiosos sobre la efectividad de cada etapa en el embudo de ventas.\n",
    "\n",
    "Sería útil analizar más a fondo las posibles causas de la baja conversión en la etapa inicial y explorar posibles mejoras para aumentar la retención.\n",
    "\n",
    "Sigue adelante con la identificación de patrones de comportamiento de los usuarios y cómo optimizar la experiencia en cada etapa.\n",
    "\n",
    "</div>\n"
   ]
  },
  {
   "cell_type": "markdown",
   "metadata": {},
   "source": [
    "## Resultados del experimento"
   ]
  },
  {
   "cell_type": "code",
   "execution_count": 29,
   "metadata": {},
   "outputs": [
    {
     "data": {
      "text/html": [
       "<div>\n",
       "<style scoped>\n",
       "    .dataframe tbody tr th:only-of-type {\n",
       "        vertical-align: middle;\n",
       "    }\n",
       "\n",
       "    .dataframe tbody tr th {\n",
       "        vertical-align: top;\n",
       "    }\n",
       "\n",
       "    .dataframe thead th {\n",
       "        text-align: right;\n",
       "    }\n",
       "</style>\n",
       "<table border=\"1\" class=\"dataframe\">\n",
       "  <thead>\n",
       "    <tr style=\"text-align: right;\">\n",
       "      <th></th>\n",
       "      <th>device_id_hash</th>\n",
       "    </tr>\n",
       "    <tr>\n",
       "      <th>exp_id</th>\n",
       "      <th></th>\n",
       "    </tr>\n",
       "  </thead>\n",
       "  <tbody>\n",
       "    <tr>\n",
       "      <th>246</th>\n",
       "      <td>2484</td>\n",
       "    </tr>\n",
       "    <tr>\n",
       "      <th>247</th>\n",
       "      <td>2513</td>\n",
       "    </tr>\n",
       "    <tr>\n",
       "      <th>248</th>\n",
       "      <td>2537</td>\n",
       "    </tr>\n",
       "  </tbody>\n",
       "</table>\n",
       "</div>"
      ],
      "text/plain": [
       "        device_id_hash\n",
       "exp_id                \n",
       "246               2484\n",
       "247               2513\n",
       "248               2537"
      ]
     },
     "execution_count": 29,
     "metadata": {},
     "output_type": "execute_result"
    }
   ],
   "source": [
    "# Cuántos usuarios hay en cada grupo?\n",
    "users_per_group = events_filtered.groupby('exp_id').agg({'device_id_hash':'nunique'})\n",
    "users_per_group"
   ]
  },
  {
   "cell_type": "code",
   "execution_count": 30,
   "metadata": {},
   "outputs": [
    {
     "data": {
      "text/html": [
       "<div>\n",
       "<style scoped>\n",
       "    .dataframe tbody tr th:only-of-type {\n",
       "        vertical-align: middle;\n",
       "    }\n",
       "\n",
       "    .dataframe tbody tr th {\n",
       "        vertical-align: top;\n",
       "    }\n",
       "\n",
       "    .dataframe thead th {\n",
       "        text-align: right;\n",
       "    }\n",
       "</style>\n",
       "<table border=\"1\" class=\"dataframe\">\n",
       "  <thead>\n",
       "    <tr style=\"text-align: right;\">\n",
       "      <th>exp_id</th>\n",
       "      <th>246</th>\n",
       "      <th>247</th>\n",
       "      <th>248</th>\n",
       "    </tr>\n",
       "    <tr>\n",
       "      <th>event</th>\n",
       "      <th></th>\n",
       "      <th></th>\n",
       "      <th></th>\n",
       "    </tr>\n",
       "  </thead>\n",
       "  <tbody>\n",
       "    <tr>\n",
       "      <th>CartScreenAppear</th>\n",
       "      <td>1266</td>\n",
       "      <td>1238</td>\n",
       "      <td>1230</td>\n",
       "    </tr>\n",
       "    <tr>\n",
       "      <th>MainScreenAppear</th>\n",
       "      <td>2450</td>\n",
       "      <td>2476</td>\n",
       "      <td>2493</td>\n",
       "    </tr>\n",
       "    <tr>\n",
       "      <th>OffersScreenAppear</th>\n",
       "      <td>1542</td>\n",
       "      <td>1520</td>\n",
       "      <td>1531</td>\n",
       "    </tr>\n",
       "    <tr>\n",
       "      <th>PaymentScreenSuccessful</th>\n",
       "      <td>1200</td>\n",
       "      <td>1158</td>\n",
       "      <td>1181</td>\n",
       "    </tr>\n",
       "    <tr>\n",
       "      <th>Tutorial</th>\n",
       "      <td>278</td>\n",
       "      <td>283</td>\n",
       "      <td>279</td>\n",
       "    </tr>\n",
       "  </tbody>\n",
       "</table>\n",
       "</div>"
      ],
      "text/plain": [
       "exp_id                    246   247   248\n",
       "event                                    \n",
       "CartScreenAppear         1266  1238  1230\n",
       "MainScreenAppear         2450  2476  2493\n",
       "OffersScreenAppear       1542  1520  1531\n",
       "PaymentScreenSuccessful  1200  1158  1181\n",
       "Tutorial                  278   283   279"
      ]
     },
     "execution_count": 30,
     "metadata": {},
     "output_type": "execute_result"
    }
   ],
   "source": [
    "# Selecciona el evento más popular. En cada uno de los grupos de control, encuentra la cantidad de usuarios que realizaron cada \n",
    "# evento. Comprueba si la diferencia entre los grupos es estadísticamente significativa. ¿Puedes confirmar que los grupos se \n",
    "# dividieron correctamente?\n",
    "\n",
    "users_event_per_group = events_filtered.pivot_table(\n",
    "    index='event',\n",
    "    columns='exp_id',\n",
    "    values='device_id_hash',\n",
    "    aggfunc='nunique'\n",
    ")\n",
    "users_event_per_group"
   ]
  },
  {
   "cell_type": "code",
   "execution_count": 48,
   "metadata": {},
   "outputs": [],
   "source": [
    "# Crear función para comprobar las diferencias estadísticas entre las proporciones de los grupos parra cada evento\n",
    "def hypothesis_check(successes1, successes2, trials1, trials2, alpha=0.01):\n",
    "    \n",
    "    # Proporción de éxito en el primer evento\n",
    "    p1 = successes1 / trials1\n",
    "    \n",
    "    # Proporción de éxito en el segundo evento\n",
    "    p2 = successes2 / trials2\n",
    "    \n",
    "    # Proporción de éxito en el dataset unido\n",
    "    p_combined = (successes1 + successes2) / (trials1 + trials2)\n",
    "    \n",
    "    # Diferencia entre las proporciones en los datasets\n",
    "    difference = p1 - p2\n",
    "    \n",
    "    # Calcular el estadístico en desviaciones estandar de la distribución normal\n",
    "    z_value = difference / mth.sqrt(p_combined * (1 - p_combined) * (1/trials1 + 1/trials2))\n",
    "    \n",
    "    # Establecer distribución normal estandar\n",
    "    distr = st.norm(0, 1)\n",
    "    \n",
    "    p_value = (1 - distr.cdf(abs(z_value))) * 2\n",
    "    \n",
    "    print('P value:', p_value)\n",
    "    \n",
    "    if p_value < alpha:\n",
    "        print('Rechazar la hipótesis nula; hay una diferencia significativa entre las proporciones de ambos grupos')\n",
    "    else:\n",
    "        print('No se puede rechazar la hipótesis nula; no hay razón para pensar que las proporciones entre ambos grupos son diferentes')"
   ]
  },
  {
   "cell_type": "code",
   "execution_count": 49,
   "metadata": {},
   "outputs": [
    {
     "name": "stdout",
     "output_type": "stream",
     "text": [
      "P value: [0.75705972]\n",
      "No se puede rechazar la hipótesis nula; no hay razón para pensar que las proporciones entre ambos grupos son diferentes\n"
     ]
    }
   ],
   "source": [
    " # Comprobar la proporción entre los grupos A/A para el evento más popular: \"MainScreenAppear\"\n",
    "hypothesis_check(users_event_per_group.loc['MainScreenAppear', 246],\n",
    "                users_event_per_group.loc['MainScreenAppear', 247],\n",
    "                                         users_per_group.loc[246],\n",
    "                                         users_per_group.loc[247])"
   ]
  },
  {
   "cell_type": "code",
   "execution_count": 50,
   "metadata": {},
   "outputs": [
    {
     "name": "stdout",
     "output_type": "stream",
     "text": [
      "P value: [0.29497219]\n",
      "No se puede rechazar la hipótesis nula; no hay razón para pensar que las proporciones entre ambos grupos son diferentes\n"
     ]
    }
   ],
   "source": [
    " # Comprobar la proporción entre los grupos A/B para el evento más popular: \"MainScreenAppear\"\n",
    "hypothesis_check(users_event_per_group.loc['MainScreenAppear', 246],\n",
    "                users_event_per_group.loc['MainScreenAppear', 248],\n",
    "                                        users_per_group.loc[246],\n",
    "                                        users_per_group.loc[248])"
   ]
  },
  {
   "cell_type": "code",
   "execution_count": 51,
   "metadata": {},
   "outputs": [
    {
     "name": "stdout",
     "output_type": "stream",
     "text": [
      "P value: [0.45870536]\n",
      "No se puede rechazar la hipótesis nula; no hay razón para pensar que las proporciones entre ambos grupos son diferentes\n"
     ]
    }
   ],
   "source": [
    "hypothesis_check(users_event_per_group.loc['MainScreenAppear', 247],\n",
    "                users_event_per_group.loc['MainScreenAppear', 248],\n",
    "                                        users_per_group.loc[247],\n",
    "                                        users_per_group.loc[248])"
   ]
  },
  {
   "cell_type": "markdown",
   "metadata": {},
   "source": [
    "Tras comprobar la diferencia estadística de las proporciones entre los grupos A/A/B, se podría confirmar que están divididos correctamente."
   ]
  },
  {
   "cell_type": "markdown",
   "metadata": {},
   "source": [
    "<div class=\"alert alert-block alert-success\">\n",
    "<b>Comentario del revisor</b> <a class=\"tocSkip\"></a><br>\n",
    "\n",
    "<b>Éxito</b> - Has realizado un excelente trabajo al calcular las diferencias estadísticas entre los grupos y al aplicar la prueba de hipótesis para evaluar la validez de las divisiones. La función que creaste para comprobar las diferencias entre las proporciones de eventos en los grupos A/A/B es muy efectiva y bien estructurada. La interpretación de los resultados también está clara, y es fundamental que hayas confirmado la correcta división de los grupos.\n",
    "\n",
    "¡Bien hecho al garantizar que los grupos fueron asignados correctamente! Este tipo de análisis es esencial para asegurar que las pruebas se realicen en condiciones equitativas.\n",
    "\n",
    "Sigue adelante con más análisis para explorar los resultados del experimento y cómo optimizar el comportamiento de los usuarios en las diferentes etapas.\n",
    "\n",
    "</div>\n"
   ]
  },
  {
   "cell_type": "code",
   "execution_count": 52,
   "metadata": {},
   "outputs": [],
   "source": [
    "# Comprobar la proporción entre los grupos de control para cada evento\n",
    "def event_hypothesis(users_event_per_group, users_per_group, event, exp1, exp2):\n",
    "    frac1 = users_event_per_group.loc[event, exp1] / users_per_group.loc[exp1]\n",
    "    frac2 = users_event_per_group.loc[event, exp2] / users_per_group.loc[exp2]\n",
    "    print(f'{frac1} with {event} event in group {exp1}')\n",
    "    print(f'{frac2} with {event} event in group {exp2}')\n",
    "    print()\n",
    "    hypothesis_check(users_event_per_group.loc[event, exp1],\n",
    "                    users_event_per_group.loc[event, exp2],\n",
    "                    users_per_group.loc[exp1],\n",
    "                    users_per_group.loc[exp2])"
   ]
  },
  {
   "cell_type": "code",
   "execution_count": 53,
   "metadata": {},
   "outputs": [
    {
     "name": "stdout",
     "output_type": "stream",
     "text": [
      "device_id_hash    0.509662\n",
      "Name: 246, dtype: float64 with CartScreenAppear event in group 246\n",
      "device_id_hash    0.492638\n",
      "Name: 247, dtype: float64 with CartScreenAppear event in group 247\n",
      "\n",
      "P value: [0.22883372]\n",
      "No se puede rechazar la hipótesis nula; no hay razón para pensar que las proporciones entre ambos grupos son diferentes\n",
      "\n",
      "device_id_hash    0.986312\n",
      "Name: 246, dtype: float64 with MainScreenAppear event in group 246\n",
      "device_id_hash    0.985277\n",
      "Name: 247, dtype: float64 with MainScreenAppear event in group 247\n",
      "\n",
      "P value: [0.75705972]\n",
      "No se puede rechazar la hipótesis nula; no hay razón para pensar que las proporciones entre ambos grupos son diferentes\n",
      "\n",
      "device_id_hash    0.620773\n",
      "Name: 246, dtype: float64 with OffersScreenAppear event in group 246\n",
      "device_id_hash    0.604855\n",
      "Name: 247, dtype: float64 with OffersScreenAppear event in group 247\n",
      "\n",
      "P value: [0.24809546]\n",
      "No se puede rechazar la hipótesis nula; no hay razón para pensar que las proporciones entre ambos grupos son diferentes\n",
      "\n",
      "device_id_hash    0.483092\n",
      "Name: 246, dtype: float64 with PaymentScreenSuccessful event in group 246\n",
      "device_id_hash    0.460804\n",
      "Name: 247, dtype: float64 with PaymentScreenSuccessful event in group 247\n",
      "\n",
      "P value: [0.11456679]\n",
      "No se puede rechazar la hipótesis nula; no hay razón para pensar que las proporciones entre ambos grupos son diferentes\n",
      "\n",
      "device_id_hash    0.111916\n",
      "Name: 246, dtype: float64 with Tutorial event in group 246\n",
      "device_id_hash    0.112614\n",
      "Name: 247, dtype: float64 with Tutorial event in group 247\n",
      "\n",
      "P value: [0.93769962]\n",
      "No se puede rechazar la hipótesis nula; no hay razón para pensar que las proporciones entre ambos grupos son diferentes\n",
      "\n"
     ]
    }
   ],
   "source": [
    "for event in users_event_per_group.index:\n",
    "    event_hypothesis(users_event_per_group, users_per_group, event, 246, 247)\n",
    "    print()"
   ]
  },
  {
   "cell_type": "code",
   "execution_count": 54,
   "metadata": {},
   "outputs": [
    {
     "name": "stdout",
     "output_type": "stream",
     "text": [
      "device_id_hash    0.509662\n",
      "Name: 246, dtype: float64 with CartScreenAppear event in group 246\n",
      "device_id_hash    0.484825\n",
      "Name: 248, dtype: float64 with CartScreenAppear event in group 248\n",
      "\n",
      "P value: [0.07842923]\n",
      "No se puede rechazar la hipótesis nula; no hay razón para pensar que las proporciones entre ambos grupos son diferentes\n",
      "\n",
      "device_id_hash    0.986312\n",
      "Name: 246, dtype: float64 with MainScreenAppear event in group 246\n",
      "device_id_hash    0.982657\n",
      "Name: 248, dtype: float64 with MainScreenAppear event in group 248\n",
      "\n",
      "P value: [0.29497219]\n",
      "No se puede rechazar la hipótesis nula; no hay razón para pensar que las proporciones entre ambos grupos son diferentes\n",
      "\n",
      "device_id_hash    0.620773\n",
      "Name: 246, dtype: float64 with OffersScreenAppear event in group 246\n",
      "device_id_hash    0.603469\n",
      "Name: 248, dtype: float64 with OffersScreenAppear event in group 248\n",
      "\n",
      "P value: [0.20836205]\n",
      "No se puede rechazar la hipótesis nula; no hay razón para pensar que las proporciones entre ambos grupos son diferentes\n",
      "\n",
      "device_id_hash    0.483092\n",
      "Name: 246, dtype: float64 with PaymentScreenSuccessful event in group 246\n",
      "device_id_hash    0.46551\n",
      "Name: 248, dtype: float64 with PaymentScreenSuccessful event in group 248\n",
      "\n",
      "P value: [0.21225533]\n",
      "No se puede rechazar la hipótesis nula; no hay razón para pensar que las proporciones entre ambos grupos son diferentes\n",
      "\n",
      "device_id_hash    0.111916\n",
      "Name: 246, dtype: float64 with Tutorial event in group 246\n",
      "device_id_hash    0.109972\n",
      "Name: 248, dtype: float64 with Tutorial event in group 248\n",
      "\n",
      "P value: [0.8264294]\n",
      "No se puede rechazar la hipótesis nula; no hay razón para pensar que las proporciones entre ambos grupos son diferentes\n",
      "\n"
     ]
    }
   ],
   "source": [
    "# Comparar las proporciones para el grupo con cada grupo control, para cada evento\n",
    "for event in users_event_per_group.index:\n",
    "    event_hypothesis(users_event_per_group, users_per_group, event, 246, 248)\n",
    "    print()"
   ]
  },
  {
   "cell_type": "code",
   "execution_count": 47,
   "metadata": {},
   "outputs": [
    {
     "name": "stdout",
     "output_type": "stream",
     "text": [
      "device_id_hash    0.492638\n",
      "Name: 247, dtype: float64 with CartScreenAppear event in group 247\n",
      "device_id_hash    0.484825\n",
      "Name: 248, dtype: float64 with CartScreenAppear event in group 248\n",
      "\n",
      "P value: [0.57861979]\n",
      "No se puede rechazar la hipótesis nula; no hay razón para pensar que las proporciones entre ambos grupos son diferentes\n",
      "\n",
      "device_id_hash    0.985277\n",
      "Name: 247, dtype: float64 with MainScreenAppear event in group 247\n",
      "device_id_hash    0.982657\n",
      "Name: 248, dtype: float64 with MainScreenAppear event in group 248\n",
      "\n",
      "P value: [0.45870536]\n",
      "No se puede rechazar la hipótesis nula; no hay razón para pensar que las proporciones entre ambos grupos son diferentes\n",
      "\n",
      "device_id_hash    0.604855\n",
      "Name: 247, dtype: float64 with OffersScreenAppear event in group 247\n",
      "device_id_hash    0.603469\n",
      "Name: 248, dtype: float64 with OffersScreenAppear event in group 248\n",
      "\n",
      "P value: [0.91978178]\n",
      "No se puede rechazar la hipótesis nula; no hay razón para pensar que las proporciones entre ambos grupos son diferentes\n",
      "\n",
      "device_id_hash    0.460804\n",
      "Name: 247, dtype: float64 with PaymentScreenSuccessful event in group 247\n",
      "device_id_hash    0.46551\n",
      "Name: 248, dtype: float64 with PaymentScreenSuccessful event in group 248\n",
      "\n",
      "P value: [0.73734151]\n",
      "No se puede rechazar la hipótesis nula; no hay razón para pensar que las proporciones entre ambos grupos son diferentes\n",
      "\n",
      "device_id_hash    0.112614\n",
      "Name: 247, dtype: float64 with Tutorial event in group 247\n",
      "device_id_hash    0.109972\n",
      "Name: 248, dtype: float64 with Tutorial event in group 248\n",
      "\n",
      "P value: [0.76532392]\n",
      "No se puede rechazar la hipótesis nula; no hay razón para pensar que las proporciones entre ambos grupos son diferentes\n",
      "\n"
     ]
    }
   ],
   "source": [
    "for event in users_event_per_group.index:\n",
    "    event_hypothesis(users_event_per_group, users_per_group, event, 247, 248)\n",
    "    print()"
   ]
  },
  {
   "cell_type": "markdown",
   "metadata": {},
   "source": [
    "- ¿Qué nivel de significación has establecido para probar las hipótesis estadísticas mencionadas anteriormente? Calcula cuántas pruebas de hipótesis estadísticas has realizado. ¿Cuál debería ser el nivel de significación?"
   ]
  },
  {
   "cell_type": "markdown",
   "metadata": {},
   "source": [
    "Había establecido un nivel de significación estadística de 0.05, sin embargo, tras haber realizado 15 pruebas de hipótesis, este nivel puede ser bastante alto, ya que al calcular la probabilidad de error para estas 15 pruebas (1 - (0.95)^15) sería de aprox un 53.6%, en cambio, con un alpha de 0.01 la probabilidad de error se reduce a un 14.2% por lo que este último valor sería más adecuado para realizar estas pruebas."
   ]
  },
  {
   "cell_type": "markdown",
   "metadata": {},
   "source": [
    "## Conclusión"
   ]
  },
  {
   "cell_type": "markdown",
   "metadata": {},
   "source": [
    "El experimento ha llevado una buena distribución de usuarios entre los grupos, pues tras la realización de las pruebas de hipótesis para evaluar la diferencia estadística entre las proporciones de los grupos control y entre estos con el grupo B, no se han encontrado diferencias estadísticamente significativas; todos los grupos tienen una proporción de usuarios adecuada, lo cual daría validez a la prueba A/A/B.  \n",
    "Por otro lado, evaluar el nivel de significación utilizado en las pruebas de hipótesis es fundamental para asegurarnos de que la probabilidad de cometer un error de tipo 1 (rechazar una hipótesis nula verdadera) sea baja, por lo que es importante considerar un alpha adecuado, de acuerrdo con la cantidad de pruebas de hipótesis que se realizarán."
   ]
  },
  {
   "cell_type": "markdown",
   "metadata": {},
   "source": [
    "<div class=\"alert alert-block alert-success\">\n",
    "<b>Comentario del revisor</b> <a class=\"tocSkip\"></a><br>\n",
    "\n",
    "<b>Éxito</b> - ¡Excelente trabajo en la implementación de la función para comprobar las proporciones entre los grupos! Has demostrado una comprensión clara del concepto de prueba de hipótesis y cómo aplicarlo a un conjunto de eventos en un experimento A/A/B. La consideración de ajustar el nivel de significación de acuerdo con la cantidad de pruebas realizadas muestra un buen entendimiento del problema y de cómo minimizar el error tipo 1.\n",
    "\n",
    "Es muy acertado que hayas evaluado la validez de la división de los grupos y, al no encontrar diferencias significativas, confirmas que las divisiones se realizaron correctamente. Además, has identificado la importancia de ajustar el nivel de significación, lo que es esencial para la robustez de las pruebas.\n",
    "\n",
    "Sigue explorando cómo estos resultados afectan el diseño de la aplicación y cómo las hipótesis pueden ayudar a mejorar la experiencia del usuario.\n",
    "\n",
    "</div>\n"
   ]
  },
  {
   "cell_type": "markdown",
   "metadata": {},
   "source": [
    "<div class=\"alert alert-block alert-success\">\n",
    "<b>Comentario del revisor</b> <a class=\"tocSkip\"></a>\n",
    "\n",
    "¡Felicidades Macarena! Tu proyecto está **aprobado**. Has demostrado un excelente manejo de los datos, análisis exploratorio, y aplicación de pruebas estadísticas para evaluar el comportamiento de los usuarios en el experimento. A continuación, destaco los puntos positivos y algunas áreas interesantes para seguir investigando:\n",
    "\n",
    "#### Puntos Positivos:\n",
    "- **Procesamiento de datos:** Has limpiado y preparado los datos de manera eficiente, asegurando que los valores ausentes y duplicados no afecten los resultados.\n",
    "- **Análisis del embudo de eventos:** La correcta identificación de eventos y la construcción del embudo te ha permitido entender cómo los usuarios interactúan con la aplicación.\n",
    "- **Pruebas de hipótesis:** Has aplicado correctamente las pruebas A/A/B y evaluado su significancia, lo que es clave para tomar decisiones informadas.\n",
    "- **Ajuste de significación estadística:** Has demostrado una comprensión sólida de la importancia del nivel de significación en las pruebas de hipótesis, adaptándolo al número de pruebas realizadas.\n",
    "\n",
    "#### Áreas para Seguir Investigando:\n",
    "- **Optimización de las pruebas A/A/B:** Podrías explorar cómo mejorar la interpretación de los resultados de las pruebas A/B en términos de usabilidad y experiencia de usuario.\n",
    "- **Análisis de resultados con más granularidad:** Puedes considerar analizar los datos por segmentos más específicos de usuarios (por ejemplo, por dispositivo o ubicación) para encontrar patrones más detallados.\n",
    "- **Expansión de pruebas estadísticas:** Te recomiendo investigar otras pruebas estadísticas para complementar las pruebas de proporciones, como pruebas de varianza o chi-cuadrado, para evaluar más a fondo los resultados del experimento.\n",
    "\n",
    "¡Sigue así, estás haciendo un gran trabajo! 💪🚀😊\n",
    "\n",
    "</div>\n"
   ]
  },
  {
   "cell_type": "code",
   "execution_count": null,
   "metadata": {},
   "outputs": [],
   "source": []
  }
 ],
 "metadata": {
  "ExecuteTimeLog": [
   {
    "duration": 2565,
    "start_time": "2024-11-19T18:43:41.061Z"
   },
   {
    "duration": 216,
    "start_time": "2024-11-19T18:45:22.866Z"
   },
   {
    "duration": 16,
    "start_time": "2024-11-19T18:45:30.063Z"
   },
   {
    "duration": 9,
    "start_time": "2024-11-19T18:45:52.739Z"
   },
   {
    "duration": 180,
    "start_time": "2024-11-19T18:46:11.062Z"
   },
   {
    "duration": 7,
    "start_time": "2024-11-19T18:46:12.273Z"
   },
   {
    "duration": 185,
    "start_time": "2024-11-19T18:49:43.890Z"
   },
   {
    "duration": 8,
    "start_time": "2024-11-19T18:49:45.334Z"
   },
   {
    "duration": 3,
    "start_time": "2024-11-19T18:52:32.509Z"
   },
   {
    "duration": 304,
    "start_time": "2024-11-19T18:52:32.514Z"
   },
   {
    "duration": 10,
    "start_time": "2024-11-19T18:52:32.820Z"
   },
   {
    "duration": 3,
    "start_time": "2024-11-19T18:52:49.709Z"
   },
   {
    "duration": 198,
    "start_time": "2024-11-19T18:52:49.714Z"
   },
   {
    "duration": 7,
    "start_time": "2024-11-19T18:52:49.914Z"
   },
   {
    "duration": 132,
    "start_time": "2024-11-19T18:55:50.703Z"
   },
   {
    "duration": 10,
    "start_time": "2024-11-19T18:55:51.962Z"
   },
   {
    "duration": 8,
    "start_time": "2024-11-19T19:38:21.977Z"
   },
   {
    "duration": 157,
    "start_time": "2024-11-19T19:38:38.906Z"
   },
   {
    "duration": 2528,
    "start_time": "2024-11-19T19:38:44.488Z"
   },
   {
    "duration": 127,
    "start_time": "2024-11-19T19:38:47.018Z"
   },
   {
    "duration": 11,
    "start_time": "2024-11-19T19:38:47.146Z"
   },
   {
    "duration": 4,
    "start_time": "2024-11-19T19:38:47.159Z"
   },
   {
    "duration": 0,
    "start_time": "2024-11-19T19:38:47.165Z"
   },
   {
    "duration": 17,
    "start_time": "2024-11-19T19:38:51.510Z"
   },
   {
    "duration": 3,
    "start_time": "2024-11-19T19:45:58.552Z"
   },
   {
    "duration": 15,
    "start_time": "2024-11-19T19:46:05.377Z"
   },
   {
    "duration": 4,
    "start_time": "2024-11-19T19:48:04.709Z"
   },
   {
    "duration": 15,
    "start_time": "2024-11-19T19:48:05.804Z"
   },
   {
    "duration": 43,
    "start_time": "2024-11-19T19:48:36.596Z"
   },
   {
    "duration": 42,
    "start_time": "2024-11-19T19:48:41.484Z"
   },
   {
    "duration": 47,
    "start_time": "2024-11-19T19:49:53.105Z"
   },
   {
    "duration": 2541,
    "start_time": "2024-11-19T23:27:45.691Z"
   },
   {
    "duration": 132,
    "start_time": "2024-11-19T23:27:48.234Z"
   },
   {
    "duration": 11,
    "start_time": "2024-11-19T23:27:48.368Z"
   },
   {
    "duration": 4,
    "start_time": "2024-11-19T23:27:48.381Z"
   },
   {
    "duration": 0,
    "start_time": "2024-11-19T23:27:48.387Z"
   },
   {
    "duration": 0,
    "start_time": "2024-11-19T23:27:48.389Z"
   },
   {
    "duration": 0,
    "start_time": "2024-11-19T23:27:48.390Z"
   },
   {
    "duration": 0,
    "start_time": "2024-11-19T23:27:48.391Z"
   },
   {
    "duration": 2,
    "start_time": "2024-11-19T23:28:03.852Z"
   },
   {
    "duration": 20,
    "start_time": "2024-11-19T23:28:04.536Z"
   },
   {
    "duration": 43,
    "start_time": "2024-11-19T23:28:08.777Z"
   },
   {
    "duration": 50,
    "start_time": "2024-11-19T23:28:11.748Z"
   },
   {
    "duration": 32,
    "start_time": "2024-11-19T23:29:58.128Z"
   },
   {
    "duration": 45,
    "start_time": "2024-11-19T23:30:10.028Z"
   },
   {
    "duration": 50,
    "start_time": "2024-11-19T23:30:32.967Z"
   },
   {
    "duration": 42,
    "start_time": "2024-11-19T23:31:53.809Z"
   },
   {
    "duration": 51,
    "start_time": "2024-11-19T23:32:05.588Z"
   },
   {
    "duration": 222,
    "start_time": "2024-11-19T23:36:01.439Z"
   },
   {
    "duration": 19,
    "start_time": "2024-11-19T23:36:11.419Z"
   },
   {
    "duration": 17,
    "start_time": "2024-11-19T23:36:46.909Z"
   },
   {
    "duration": 14,
    "start_time": "2024-11-19T23:57:22.592Z"
   },
   {
    "duration": 32,
    "start_time": "2024-11-19T23:57:44.745Z"
   },
   {
    "duration": 8,
    "start_time": "2024-11-20T00:12:58.324Z"
   },
   {
    "duration": 7,
    "start_time": "2024-11-20T00:15:47.180Z"
   },
   {
    "duration": 8,
    "start_time": "2024-11-20T00:16:04.728Z"
   },
   {
    "duration": 6,
    "start_time": "2024-11-20T00:16:10.305Z"
   },
   {
    "duration": 46,
    "start_time": "2024-11-20T00:16:58.548Z"
   },
   {
    "duration": 7,
    "start_time": "2024-11-20T00:17:06.411Z"
   },
   {
    "duration": 16,
    "start_time": "2024-11-20T00:19:20.631Z"
   },
   {
    "duration": 7,
    "start_time": "2024-11-20T00:22:24.455Z"
   },
   {
    "duration": 8,
    "start_time": "2024-11-20T00:31:07.289Z"
   },
   {
    "duration": 7,
    "start_time": "2024-11-20T00:31:25.014Z"
   },
   {
    "duration": 2463,
    "start_time": "2024-11-20T14:47:39.678Z"
   },
   {
    "duration": 123,
    "start_time": "2024-11-20T14:47:42.144Z"
   },
   {
    "duration": 10,
    "start_time": "2024-11-20T14:47:42.269Z"
   },
   {
    "duration": 2,
    "start_time": "2024-11-20T14:47:42.281Z"
   },
   {
    "duration": 14,
    "start_time": "2024-11-20T14:47:42.287Z"
   },
   {
    "duration": 68,
    "start_time": "2024-11-20T14:47:42.303Z"
   },
   {
    "duration": 47,
    "start_time": "2024-11-20T14:47:42.373Z"
   },
   {
    "duration": 8,
    "start_time": "2024-11-20T14:47:42.422Z"
   },
   {
    "duration": 60,
    "start_time": "2024-11-20T14:47:42.431Z"
   },
   {
    "duration": 9,
    "start_time": "2024-11-20T14:47:42.493Z"
   },
   {
    "duration": 15,
    "start_time": "2024-11-20T14:47:42.504Z"
   },
   {
    "duration": 8,
    "start_time": "2024-11-20T14:47:42.521Z"
   },
   {
    "duration": 2,
    "start_time": "2024-11-20T14:47:42.530Z"
   },
   {
    "duration": 25,
    "start_time": "2024-11-20T14:54:21.730Z"
   },
   {
    "duration": 25,
    "start_time": "2024-11-20T14:54:47.415Z"
   },
   {
    "duration": 548,
    "start_time": "2024-11-20T14:56:39.732Z"
   },
   {
    "duration": 518,
    "start_time": "2024-11-20T14:56:56.012Z"
   },
   {
    "duration": 20,
    "start_time": "2024-11-20T14:57:22.147Z"
   },
   {
    "duration": 18,
    "start_time": "2024-11-20T15:02:38.040Z"
   },
   {
    "duration": 16,
    "start_time": "2024-11-20T15:02:57.811Z"
   },
   {
    "duration": 18,
    "start_time": "2024-11-20T15:03:15.114Z"
   },
   {
    "duration": 122,
    "start_time": "2024-11-20T15:04:07.779Z"
   },
   {
    "duration": 126,
    "start_time": "2024-11-20T15:04:23.900Z"
   },
   {
    "duration": 107,
    "start_time": "2024-11-20T15:04:37.041Z"
   },
   {
    "duration": 15,
    "start_time": "2024-11-20T15:05:54.785Z"
   },
   {
    "duration": 12,
    "start_time": "2024-11-20T15:15:39.759Z"
   },
   {
    "duration": 4,
    "start_time": "2024-11-20T15:15:50.601Z"
   },
   {
    "duration": 13,
    "start_time": "2024-11-20T15:16:00.237Z"
   },
   {
    "duration": 4,
    "start_time": "2024-11-20T15:16:05.063Z"
   },
   {
    "duration": 4,
    "start_time": "2024-11-20T15:16:19.419Z"
   },
   {
    "duration": 118,
    "start_time": "2024-11-20T15:17:19.931Z"
   },
   {
    "duration": 126,
    "start_time": "2024-11-20T15:17:37.678Z"
   },
   {
    "duration": 24,
    "start_time": "2024-11-20T15:27:13.657Z"
   },
   {
    "duration": 28,
    "start_time": "2024-11-20T15:29:29.283Z"
   },
   {
    "duration": 27,
    "start_time": "2024-11-20T15:30:25.412Z"
   },
   {
    "duration": 24,
    "start_time": "2024-11-20T15:33:28.863Z"
   },
   {
    "duration": 26,
    "start_time": "2024-11-20T15:33:48.335Z"
   },
   {
    "duration": 6,
    "start_time": "2024-11-20T15:35:25.546Z"
   },
   {
    "duration": 6,
    "start_time": "2024-11-20T15:35:40.816Z"
   },
   {
    "duration": 7,
    "start_time": "2024-11-20T15:35:48.625Z"
   },
   {
    "duration": 12,
    "start_time": "2024-11-20T15:36:10.956Z"
   },
   {
    "duration": 6,
    "start_time": "2024-11-20T15:36:21.106Z"
   },
   {
    "duration": 7,
    "start_time": "2024-11-20T15:37:00.903Z"
   },
   {
    "duration": 101,
    "start_time": "2024-11-20T15:44:41.905Z"
   },
   {
    "duration": 5,
    "start_time": "2024-11-20T15:45:46.059Z"
   },
   {
    "duration": 6,
    "start_time": "2024-11-20T15:45:50.024Z"
   },
   {
    "duration": 93,
    "start_time": "2024-11-20T15:46:05.684Z"
   },
   {
    "duration": 12,
    "start_time": "2024-11-20T15:46:36.180Z"
   },
   {
    "duration": 13,
    "start_time": "2024-11-20T15:46:47.936Z"
   },
   {
    "duration": 14,
    "start_time": "2024-11-20T15:48:19.204Z"
   },
   {
    "duration": 97,
    "start_time": "2024-11-20T15:48:47.207Z"
   },
   {
    "duration": 90,
    "start_time": "2024-11-20T15:49:04.289Z"
   },
   {
    "duration": 90,
    "start_time": "2024-11-20T15:49:36.366Z"
   },
   {
    "duration": 9,
    "start_time": "2024-11-20T15:49:58.809Z"
   },
   {
    "duration": 21,
    "start_time": "2024-11-20T15:52:26.836Z"
   },
   {
    "duration": 20,
    "start_time": "2024-11-20T15:53:22.263Z"
   },
   {
    "duration": 23,
    "start_time": "2024-11-20T15:56:56.967Z"
   },
   {
    "duration": 21,
    "start_time": "2024-11-20T15:57:28.145Z"
   },
   {
    "duration": 2424,
    "start_time": "2024-11-20T17:43:29.626Z"
   },
   {
    "duration": 138,
    "start_time": "2024-11-20T17:43:32.052Z"
   },
   {
    "duration": 11,
    "start_time": "2024-11-20T17:43:32.191Z"
   },
   {
    "duration": 5,
    "start_time": "2024-11-20T17:43:32.203Z"
   },
   {
    "duration": 19,
    "start_time": "2024-11-20T17:43:32.211Z"
   },
   {
    "duration": 42,
    "start_time": "2024-11-20T17:43:32.232Z"
   },
   {
    "duration": 67,
    "start_time": "2024-11-20T17:43:32.276Z"
   },
   {
    "duration": 8,
    "start_time": "2024-11-20T17:43:32.345Z"
   },
   {
    "duration": 42,
    "start_time": "2024-11-20T17:43:32.355Z"
   },
   {
    "duration": 24,
    "start_time": "2024-11-20T17:43:32.399Z"
   },
   {
    "duration": 14,
    "start_time": "2024-11-20T17:43:32.425Z"
   },
   {
    "duration": 7,
    "start_time": "2024-11-20T17:43:32.440Z"
   },
   {
    "duration": 23,
    "start_time": "2024-11-20T17:43:32.450Z"
   },
   {
    "duration": 15,
    "start_time": "2024-11-20T17:43:32.476Z"
   },
   {
    "duration": 4,
    "start_time": "2024-11-20T17:43:32.492Z"
   },
   {
    "duration": 4,
    "start_time": "2024-11-20T17:43:32.524Z"
   },
   {
    "duration": 138,
    "start_time": "2024-11-20T17:43:32.530Z"
   },
   {
    "duration": 21,
    "start_time": "2024-11-20T17:43:32.670Z"
   },
   {
    "duration": 44,
    "start_time": "2024-11-20T17:43:32.692Z"
   },
   {
    "duration": 9,
    "start_time": "2024-11-20T17:43:32.738Z"
   },
   {
    "duration": 20,
    "start_time": "2024-11-20T17:43:32.749Z"
   },
   {
    "duration": 19,
    "start_time": "2024-11-20T17:43:32.771Z"
   },
   {
    "duration": 18,
    "start_time": "2024-11-20T17:49:07.798Z"
   },
   {
    "duration": 38,
    "start_time": "2024-11-20T17:50:03.013Z"
   },
   {
    "duration": 107,
    "start_time": "2024-11-20T18:07:54.575Z"
   },
   {
    "duration": 42,
    "start_time": "2024-11-20T18:10:04.090Z"
   },
   {
    "duration": 449,
    "start_time": "2024-11-20T18:10:11.495Z"
   },
   {
    "duration": 45,
    "start_time": "2024-11-20T18:10:28.351Z"
   },
   {
    "duration": 106,
    "start_time": "2024-11-20T18:10:33.374Z"
   },
   {
    "duration": 113,
    "start_time": "2024-11-20T18:10:53.931Z"
   },
   {
    "duration": 119,
    "start_time": "2024-11-20T18:14:26.032Z"
   },
   {
    "duration": 133,
    "start_time": "2024-11-20T18:14:48.970Z"
   },
   {
    "duration": 130,
    "start_time": "2024-11-20T18:17:09.290Z"
   },
   {
    "duration": 118,
    "start_time": "2024-11-20T18:17:41.400Z"
   },
   {
    "duration": 132,
    "start_time": "2024-11-20T18:18:42.584Z"
   },
   {
    "duration": 116,
    "start_time": "2024-11-20T18:19:40.875Z"
   },
   {
    "duration": 127,
    "start_time": "2024-11-20T18:26:31.396Z"
   },
   {
    "duration": 123,
    "start_time": "2024-11-20T18:26:57.637Z"
   },
   {
    "duration": 8,
    "start_time": "2024-11-20T18:59:07.010Z"
   },
   {
    "duration": 44,
    "start_time": "2024-11-20T19:00:26.950Z"
   },
   {
    "duration": 4,
    "start_time": "2024-11-20T19:31:54.506Z"
   },
   {
    "duration": 39,
    "start_time": "2024-11-20T19:32:10.966Z"
   },
   {
    "duration": 39,
    "start_time": "2024-11-20T19:32:31.325Z"
   },
   {
    "duration": 4,
    "start_time": "2024-11-20T19:32:39.605Z"
   },
   {
    "duration": 979,
    "start_time": "2024-11-20T19:36:19.424Z"
   },
   {
    "duration": 70,
    "start_time": "2024-11-20T19:38:12.532Z"
   },
   {
    "duration": 2574,
    "start_time": "2024-11-20T23:16:06.537Z"
   },
   {
    "duration": 130,
    "start_time": "2024-11-20T23:16:09.113Z"
   },
   {
    "duration": 12,
    "start_time": "2024-11-20T23:16:09.244Z"
   },
   {
    "duration": 2,
    "start_time": "2024-11-20T23:16:09.258Z"
   },
   {
    "duration": 16,
    "start_time": "2024-11-20T23:16:09.269Z"
   },
   {
    "duration": 46,
    "start_time": "2024-11-20T23:16:09.287Z"
   },
   {
    "duration": 75,
    "start_time": "2024-11-20T23:16:09.335Z"
   },
   {
    "duration": 8,
    "start_time": "2024-11-20T23:16:09.412Z"
   },
   {
    "duration": 51,
    "start_time": "2024-11-20T23:16:09.422Z"
   },
   {
    "duration": 8,
    "start_time": "2024-11-20T23:16:09.475Z"
   },
   {
    "duration": 15,
    "start_time": "2024-11-20T23:16:09.485Z"
   },
   {
    "duration": 8,
    "start_time": "2024-11-20T23:16:09.501Z"
   },
   {
    "duration": 27,
    "start_time": "2024-11-20T23:16:09.510Z"
   },
   {
    "duration": 16,
    "start_time": "2024-11-20T23:16:09.573Z"
   },
   {
    "duration": 4,
    "start_time": "2024-11-20T23:16:09.591Z"
   },
   {
    "duration": 4,
    "start_time": "2024-11-20T23:16:09.597Z"
   },
   {
    "duration": 156,
    "start_time": "2024-11-20T23:16:09.603Z"
   },
   {
    "duration": 28,
    "start_time": "2024-11-20T23:16:09.761Z"
   },
   {
    "duration": 27,
    "start_time": "2024-11-20T23:16:09.791Z"
   },
   {
    "duration": 7,
    "start_time": "2024-11-20T23:16:09.820Z"
   },
   {
    "duration": 41,
    "start_time": "2024-11-20T23:16:09.829Z"
   },
   {
    "duration": 20,
    "start_time": "2024-11-20T23:16:09.871Z"
   },
   {
    "duration": 39,
    "start_time": "2024-11-20T23:16:09.893Z"
   },
   {
    "duration": 137,
    "start_time": "2024-11-20T23:16:09.934Z"
   },
   {
    "duration": 1166,
    "start_time": "2024-11-20T23:16:10.072Z"
   },
   {
    "duration": 70,
    "start_time": "2024-11-20T23:17:41.492Z"
   },
   {
    "duration": 5,
    "start_time": "2024-11-20T23:20:28.350Z"
   },
   {
    "duration": 69,
    "start_time": "2024-11-20T23:21:49.311Z"
   },
   {
    "duration": 69,
    "start_time": "2024-11-20T23:21:55.734Z"
   },
   {
    "duration": 175,
    "start_time": "2024-11-20T23:23:01.455Z"
   },
   {
    "duration": 68,
    "start_time": "2024-11-20T23:23:48.370Z"
   },
   {
    "duration": 74,
    "start_time": "2024-11-20T23:27:18.698Z"
   },
   {
    "duration": 72,
    "start_time": "2024-11-20T23:27:52.737Z"
   },
   {
    "duration": 169,
    "start_time": "2024-11-20T23:28:53.443Z"
   },
   {
    "duration": 45,
    "start_time": "2024-11-20T23:29:37.068Z"
   },
   {
    "duration": 39,
    "start_time": "2024-11-20T23:29:47.771Z"
   },
   {
    "duration": 38,
    "start_time": "2024-11-20T23:30:00.377Z"
   },
   {
    "duration": 37,
    "start_time": "2024-11-20T23:30:11.948Z"
   },
   {
    "duration": 57,
    "start_time": "2024-11-20T23:30:16.303Z"
   },
   {
    "duration": 71,
    "start_time": "2024-11-20T23:30:28.278Z"
   },
   {
    "duration": 6,
    "start_time": "2024-11-20T23:30:42.599Z"
   },
   {
    "duration": 94,
    "start_time": "2024-11-20T23:31:29.716Z"
   },
   {
    "duration": 55,
    "start_time": "2024-11-20T23:31:41.250Z"
   },
   {
    "duration": 71,
    "start_time": "2024-11-20T23:33:22.795Z"
   },
   {
    "duration": 76,
    "start_time": "2024-11-20T23:35:28.136Z"
   },
   {
    "duration": 71,
    "start_time": "2024-11-20T23:36:03.230Z"
   },
   {
    "duration": 809,
    "start_time": "2024-11-20T23:37:17.367Z"
   },
   {
    "duration": 104,
    "start_time": "2024-11-20T23:37:18.179Z"
   },
   {
    "duration": 12,
    "start_time": "2024-11-20T23:37:18.285Z"
   },
   {
    "duration": 2,
    "start_time": "2024-11-20T23:37:18.299Z"
   },
   {
    "duration": 17,
    "start_time": "2024-11-20T23:37:18.304Z"
   },
   {
    "duration": 64,
    "start_time": "2024-11-20T23:37:18.323Z"
   },
   {
    "duration": 96,
    "start_time": "2024-11-20T23:37:18.390Z"
   },
   {
    "duration": 11,
    "start_time": "2024-11-20T23:37:18.488Z"
   },
   {
    "duration": 100,
    "start_time": "2024-11-20T23:37:18.501Z"
   },
   {
    "duration": 10,
    "start_time": "2024-11-20T23:37:18.603Z"
   },
   {
    "duration": 18,
    "start_time": "2024-11-20T23:37:18.615Z"
   },
   {
    "duration": 9,
    "start_time": "2024-11-20T23:37:18.635Z"
   },
   {
    "duration": 61,
    "start_time": "2024-11-20T23:37:18.645Z"
   },
   {
    "duration": 20,
    "start_time": "2024-11-20T23:37:18.710Z"
   },
   {
    "duration": 4,
    "start_time": "2024-11-20T23:37:18.732Z"
   },
   {
    "duration": 7,
    "start_time": "2024-11-20T23:37:18.738Z"
   },
   {
    "duration": 139,
    "start_time": "2024-11-20T23:37:18.769Z"
   },
   {
    "duration": 22,
    "start_time": "2024-11-20T23:37:18.911Z"
   },
   {
    "duration": 40,
    "start_time": "2024-11-20T23:37:18.935Z"
   },
   {
    "duration": 9,
    "start_time": "2024-11-20T23:37:18.977Z"
   },
   {
    "duration": 21,
    "start_time": "2024-11-20T23:37:18.988Z"
   },
   {
    "duration": 22,
    "start_time": "2024-11-20T23:37:19.011Z"
   },
   {
    "duration": 65,
    "start_time": "2024-11-20T23:37:19.036Z"
   },
   {
    "duration": 164,
    "start_time": "2024-11-20T23:37:19.104Z"
   },
   {
    "duration": 1248,
    "start_time": "2024-11-20T23:37:19.270Z"
   },
   {
    "duration": 72,
    "start_time": "2024-11-20T23:42:32.680Z"
   },
   {
    "duration": 181,
    "start_time": "2024-11-20T23:43:29.686Z"
   },
   {
    "duration": 5,
    "start_time": "2024-11-20T23:43:49.666Z"
   },
   {
    "duration": 7,
    "start_time": "2024-11-20T23:44:09.422Z"
   },
   {
    "duration": 4,
    "start_time": "2024-11-20T23:46:11.120Z"
   },
   {
    "duration": 6,
    "start_time": "2024-11-20T23:46:22.567Z"
   },
   {
    "duration": 4,
    "start_time": "2024-11-20T23:47:27.486Z"
   },
   {
    "duration": 4,
    "start_time": "2024-11-20T23:47:38.932Z"
   },
   {
    "duration": 7,
    "start_time": "2024-11-20T23:47:40.359Z"
   },
   {
    "duration": 2,
    "start_time": "2024-11-20T23:47:52.413Z"
   },
   {
    "duration": 94,
    "start_time": "2024-11-20T23:47:52.418Z"
   },
   {
    "duration": 8,
    "start_time": "2024-11-20T23:47:52.514Z"
   },
   {
    "duration": 2,
    "start_time": "2024-11-20T23:47:52.524Z"
   },
   {
    "duration": 15,
    "start_time": "2024-11-20T23:47:52.528Z"
   },
   {
    "duration": 55,
    "start_time": "2024-11-20T23:47:52.544Z"
   },
   {
    "duration": 47,
    "start_time": "2024-11-20T23:47:52.601Z"
   },
   {
    "duration": 22,
    "start_time": "2024-11-20T23:47:52.650Z"
   },
   {
    "duration": 41,
    "start_time": "2024-11-20T23:47:52.673Z"
   },
   {
    "duration": 8,
    "start_time": "2024-11-20T23:47:52.715Z"
   },
   {
    "duration": 15,
    "start_time": "2024-11-20T23:47:52.724Z"
   },
   {
    "duration": 6,
    "start_time": "2024-11-20T23:47:52.741Z"
   },
   {
    "duration": 24,
    "start_time": "2024-11-20T23:47:52.770Z"
   },
   {
    "duration": 14,
    "start_time": "2024-11-20T23:47:52.798Z"
   },
   {
    "duration": 4,
    "start_time": "2024-11-20T23:47:52.814Z"
   },
   {
    "duration": 4,
    "start_time": "2024-11-20T23:47:52.819Z"
   },
   {
    "duration": 150,
    "start_time": "2024-11-20T23:47:52.825Z"
   },
   {
    "duration": 23,
    "start_time": "2024-11-20T23:47:52.977Z"
   },
   {
    "duration": 25,
    "start_time": "2024-11-20T23:47:53.002Z"
   },
   {
    "duration": 8,
    "start_time": "2024-11-20T23:47:53.029Z"
   },
   {
    "duration": 43,
    "start_time": "2024-11-20T23:47:53.039Z"
   },
   {
    "duration": 18,
    "start_time": "2024-11-20T23:47:53.083Z"
   },
   {
    "duration": 50,
    "start_time": "2024-11-20T23:47:53.102Z"
   },
   {
    "duration": 137,
    "start_time": "2024-11-20T23:47:53.154Z"
   },
   {
    "duration": 3,
    "start_time": "2024-11-20T23:47:53.293Z"
   },
   {
    "duration": 6,
    "start_time": "2024-11-20T23:47:53.298Z"
   },
   {
    "duration": 4,
    "start_time": "2024-11-20T23:50:02.399Z"
   },
   {
    "duration": 6,
    "start_time": "2024-11-20T23:50:09.987Z"
   },
   {
    "duration": 4,
    "start_time": "2024-11-20T23:51:40.979Z"
   },
   {
    "duration": 6,
    "start_time": "2024-11-20T23:51:43.499Z"
   },
   {
    "duration": 2,
    "start_time": "2024-11-20T23:51:49.455Z"
   },
   {
    "duration": 96,
    "start_time": "2024-11-20T23:51:49.459Z"
   },
   {
    "duration": 14,
    "start_time": "2024-11-20T23:51:49.556Z"
   },
   {
    "duration": 2,
    "start_time": "2024-11-20T23:51:49.571Z"
   },
   {
    "duration": 13,
    "start_time": "2024-11-20T23:51:49.576Z"
   },
   {
    "duration": 39,
    "start_time": "2024-11-20T23:51:49.591Z"
   },
   {
    "duration": 69,
    "start_time": "2024-11-20T23:51:49.632Z"
   },
   {
    "duration": 6,
    "start_time": "2024-11-20T23:51:49.703Z"
   },
   {
    "duration": 44,
    "start_time": "2024-11-20T23:51:49.711Z"
   },
   {
    "duration": 21,
    "start_time": "2024-11-20T23:51:49.756Z"
   },
   {
    "duration": 15,
    "start_time": "2024-11-20T23:51:49.779Z"
   },
   {
    "duration": 6,
    "start_time": "2024-11-20T23:51:49.796Z"
   },
   {
    "duration": 25,
    "start_time": "2024-11-20T23:51:49.803Z"
   },
   {
    "duration": 44,
    "start_time": "2024-11-20T23:51:49.832Z"
   },
   {
    "duration": 6,
    "start_time": "2024-11-20T23:51:49.877Z"
   },
   {
    "duration": 4,
    "start_time": "2024-11-20T23:51:49.885Z"
   },
   {
    "duration": 142,
    "start_time": "2024-11-20T23:51:49.892Z"
   },
   {
    "duration": 21,
    "start_time": "2024-11-20T23:51:50.036Z"
   },
   {
    "duration": 33,
    "start_time": "2024-11-20T23:51:50.059Z"
   },
   {
    "duration": 7,
    "start_time": "2024-11-20T23:51:50.094Z"
   },
   {
    "duration": 17,
    "start_time": "2024-11-20T23:51:50.103Z"
   },
   {
    "duration": 18,
    "start_time": "2024-11-20T23:51:50.122Z"
   },
   {
    "duration": 63,
    "start_time": "2024-11-20T23:51:50.141Z"
   },
   {
    "duration": 125,
    "start_time": "2024-11-20T23:51:50.206Z"
   },
   {
    "duration": 4,
    "start_time": "2024-11-20T23:51:50.333Z"
   },
   {
    "duration": 6,
    "start_time": "2024-11-20T23:51:50.339Z"
   },
   {
    "duration": 6,
    "start_time": "2024-11-20T23:51:50.348Z"
   },
   {
    "duration": 2455,
    "start_time": "2024-11-21T02:46:33.893Z"
   },
   {
    "duration": 139,
    "start_time": "2024-11-21T02:46:36.350Z"
   },
   {
    "duration": 11,
    "start_time": "2024-11-21T02:46:36.490Z"
   },
   {
    "duration": 2,
    "start_time": "2024-11-21T02:46:36.503Z"
   },
   {
    "duration": 14,
    "start_time": "2024-11-21T02:46:36.509Z"
   },
   {
    "duration": 43,
    "start_time": "2024-11-21T02:46:36.525Z"
   },
   {
    "duration": 69,
    "start_time": "2024-11-21T02:46:36.570Z"
   },
   {
    "duration": 7,
    "start_time": "2024-11-21T02:46:36.641Z"
   },
   {
    "duration": 43,
    "start_time": "2024-11-21T02:46:36.650Z"
   },
   {
    "duration": 19,
    "start_time": "2024-11-21T02:46:36.694Z"
   },
   {
    "duration": 15,
    "start_time": "2024-11-21T02:46:36.715Z"
   },
   {
    "duration": 7,
    "start_time": "2024-11-21T02:46:36.732Z"
   },
   {
    "duration": 24,
    "start_time": "2024-11-21T02:46:36.740Z"
   },
   {
    "duration": 45,
    "start_time": "2024-11-21T02:46:36.767Z"
   },
   {
    "duration": 4,
    "start_time": "2024-11-21T02:46:36.814Z"
   },
   {
    "duration": 5,
    "start_time": "2024-11-21T02:46:36.819Z"
   },
   {
    "duration": 146,
    "start_time": "2024-11-21T02:46:36.826Z"
   },
   {
    "duration": 22,
    "start_time": "2024-11-21T02:46:36.974Z"
   },
   {
    "duration": 34,
    "start_time": "2024-11-21T02:46:36.997Z"
   },
   {
    "duration": 7,
    "start_time": "2024-11-21T02:46:37.032Z"
   },
   {
    "duration": 18,
    "start_time": "2024-11-21T02:46:37.041Z"
   },
   {
    "duration": 19,
    "start_time": "2024-11-21T02:46:37.061Z"
   },
   {
    "duration": 67,
    "start_time": "2024-11-21T02:46:37.081Z"
   },
   {
    "duration": 138,
    "start_time": "2024-11-21T02:46:37.150Z"
   },
   {
    "duration": 6,
    "start_time": "2024-11-21T02:46:37.291Z"
   },
   {
    "duration": 13,
    "start_time": "2024-11-21T02:46:37.298Z"
   },
   {
    "duration": 8,
    "start_time": "2024-11-21T02:46:37.313Z"
   },
   {
    "duration": 4,
    "start_time": "2024-11-21T02:47:01.241Z"
   },
   {
    "duration": 7,
    "start_time": "2024-11-21T02:47:02.235Z"
   },
   {
    "duration": 4,
    "start_time": "2024-11-21T02:53:15.041Z"
   },
   {
    "duration": 7,
    "start_time": "2024-11-21T02:53:16.013Z"
   },
   {
    "duration": 4,
    "start_time": "2024-11-21T02:53:30.221Z"
   },
   {
    "duration": 12,
    "start_time": "2024-11-21T02:53:32.213Z"
   },
   {
    "duration": 4,
    "start_time": "2024-11-21T02:55:16.160Z"
   },
   {
    "duration": 7,
    "start_time": "2024-11-21T02:55:16.715Z"
   },
   {
    "duration": 4,
    "start_time": "2024-11-21T02:57:18.902Z"
   },
   {
    "duration": 7,
    "start_time": "2024-11-21T02:57:19.352Z"
   },
   {
    "duration": 3,
    "start_time": "2024-11-21T02:57:26.303Z"
   },
   {
    "duration": 99,
    "start_time": "2024-11-21T02:57:26.308Z"
   },
   {
    "duration": 8,
    "start_time": "2024-11-21T02:57:26.409Z"
   },
   {
    "duration": 2,
    "start_time": "2024-11-21T02:57:26.419Z"
   },
   {
    "duration": 14,
    "start_time": "2024-11-21T02:57:26.424Z"
   },
   {
    "duration": 39,
    "start_time": "2024-11-21T02:57:26.439Z"
   },
   {
    "duration": 72,
    "start_time": "2024-11-21T02:57:26.480Z"
   },
   {
    "duration": 5,
    "start_time": "2024-11-21T02:57:26.555Z"
   },
   {
    "duration": 53,
    "start_time": "2024-11-21T02:57:26.562Z"
   },
   {
    "duration": 9,
    "start_time": "2024-11-21T02:57:26.617Z"
   },
   {
    "duration": 15,
    "start_time": "2024-11-21T02:57:26.628Z"
   },
   {
    "duration": 6,
    "start_time": "2024-11-21T02:57:26.645Z"
   },
   {
    "duration": 25,
    "start_time": "2024-11-21T02:57:26.652Z"
   },
   {
    "duration": 41,
    "start_time": "2024-11-21T02:57:26.680Z"
   },
   {
    "duration": 4,
    "start_time": "2024-11-21T02:57:26.722Z"
   },
   {
    "duration": 5,
    "start_time": "2024-11-21T02:57:26.727Z"
   },
   {
    "duration": 140,
    "start_time": "2024-11-21T02:57:26.734Z"
   },
   {
    "duration": 32,
    "start_time": "2024-11-21T02:57:26.876Z"
   },
   {
    "duration": 24,
    "start_time": "2024-11-21T02:57:26.910Z"
   },
   {
    "duration": 8,
    "start_time": "2024-11-21T02:57:26.936Z"
   },
   {
    "duration": 18,
    "start_time": "2024-11-21T02:57:26.945Z"
   },
   {
    "duration": 18,
    "start_time": "2024-11-21T02:57:26.965Z"
   },
   {
    "duration": 40,
    "start_time": "2024-11-21T02:57:27.008Z"
   },
   {
    "duration": 129,
    "start_time": "2024-11-21T02:57:27.049Z"
   },
   {
    "duration": 6,
    "start_time": "2024-11-21T02:57:27.181Z"
   },
   {
    "duration": 6,
    "start_time": "2024-11-21T02:57:27.196Z"
   },
   {
    "duration": 12,
    "start_time": "2024-11-21T02:57:27.205Z"
   },
   {
    "duration": 4,
    "start_time": "2024-11-21T03:12:23.496Z"
   },
   {
    "duration": 6,
    "start_time": "2024-11-21T03:12:24.268Z"
   },
   {
    "duration": 4,
    "start_time": "2024-11-21T03:49:30.607Z"
   },
   {
    "duration": 6,
    "start_time": "2024-11-21T03:49:31.578Z"
   },
   {
    "duration": 2682,
    "start_time": "2024-11-21T18:14:28.838Z"
   },
   {
    "duration": 134,
    "start_time": "2024-11-21T18:14:31.522Z"
   },
   {
    "duration": 13,
    "start_time": "2024-11-21T18:14:31.658Z"
   },
   {
    "duration": 3,
    "start_time": "2024-11-21T18:14:31.674Z"
   },
   {
    "duration": 15,
    "start_time": "2024-11-21T18:14:31.681Z"
   },
   {
    "duration": 70,
    "start_time": "2024-11-21T18:14:31.698Z"
   },
   {
    "duration": 56,
    "start_time": "2024-11-21T18:14:31.769Z"
   },
   {
    "duration": 21,
    "start_time": "2024-11-21T18:14:31.827Z"
   },
   {
    "duration": 44,
    "start_time": "2024-11-21T18:14:31.849Z"
   },
   {
    "duration": 9,
    "start_time": "2024-11-21T18:14:31.895Z"
   },
   {
    "duration": 16,
    "start_time": "2024-11-21T18:14:31.905Z"
   },
   {
    "duration": 27,
    "start_time": "2024-11-21T18:14:31.922Z"
   },
   {
    "duration": 27,
    "start_time": "2024-11-21T18:14:31.950Z"
   },
   {
    "duration": 16,
    "start_time": "2024-11-21T18:14:31.981Z"
   },
   {
    "duration": 6,
    "start_time": "2024-11-21T18:14:31.999Z"
   },
   {
    "duration": 37,
    "start_time": "2024-11-21T18:14:32.006Z"
   },
   {
    "duration": 144,
    "start_time": "2024-11-21T18:14:32.045Z"
   },
   {
    "duration": 22,
    "start_time": "2024-11-21T18:14:32.191Z"
   },
   {
    "duration": 40,
    "start_time": "2024-11-21T18:14:32.215Z"
   },
   {
    "duration": 8,
    "start_time": "2024-11-21T18:14:32.257Z"
   },
   {
    "duration": 18,
    "start_time": "2024-11-21T18:14:32.267Z"
   },
   {
    "duration": 20,
    "start_time": "2024-11-21T18:14:32.287Z"
   },
   {
    "duration": 67,
    "start_time": "2024-11-21T18:14:32.309Z"
   },
   {
    "duration": 142,
    "start_time": "2024-11-21T18:14:32.378Z"
   },
   {
    "duration": 5,
    "start_time": "2024-11-21T18:14:32.522Z"
   },
   {
    "duration": 16,
    "start_time": "2024-11-21T18:14:32.529Z"
   },
   {
    "duration": 8,
    "start_time": "2024-11-21T18:14:32.548Z"
   },
   {
    "duration": 2720,
    "start_time": "2024-11-21T19:48:50.535Z"
   },
   {
    "duration": 125,
    "start_time": "2024-11-21T19:48:53.257Z"
   },
   {
    "duration": 10,
    "start_time": "2024-11-21T19:48:53.384Z"
   },
   {
    "duration": 3,
    "start_time": "2024-11-21T19:48:53.395Z"
   },
   {
    "duration": 28,
    "start_time": "2024-11-21T19:48:53.401Z"
   },
   {
    "duration": 49,
    "start_time": "2024-11-21T19:48:53.431Z"
   },
   {
    "duration": 63,
    "start_time": "2024-11-21T19:48:53.481Z"
   },
   {
    "duration": 7,
    "start_time": "2024-11-21T19:48:53.545Z"
   },
   {
    "duration": 42,
    "start_time": "2024-11-21T19:48:53.554Z"
   },
   {
    "duration": 7,
    "start_time": "2024-11-21T19:48:53.599Z"
   },
   {
    "duration": 15,
    "start_time": "2024-11-21T19:48:53.624Z"
   },
   {
    "duration": 7,
    "start_time": "2024-11-21T19:48:53.641Z"
   },
   {
    "duration": 24,
    "start_time": "2024-11-21T19:48:53.649Z"
   },
   {
    "duration": 15,
    "start_time": "2024-11-21T19:48:53.676Z"
   },
   {
    "duration": 32,
    "start_time": "2024-11-21T19:48:53.693Z"
   },
   {
    "duration": 4,
    "start_time": "2024-11-21T19:48:53.727Z"
   },
   {
    "duration": 150,
    "start_time": "2024-11-21T19:48:53.733Z"
   },
   {
    "duration": 21,
    "start_time": "2024-11-21T19:48:53.885Z"
   },
   {
    "duration": 37,
    "start_time": "2024-11-21T19:48:53.907Z"
   },
   {
    "duration": 8,
    "start_time": "2024-11-21T19:48:53.946Z"
   },
   {
    "duration": 17,
    "start_time": "2024-11-21T19:48:53.955Z"
   },
   {
    "duration": 18,
    "start_time": "2024-11-21T19:48:53.974Z"
   },
   {
    "duration": 58,
    "start_time": "2024-11-21T19:48:53.993Z"
   },
   {
    "duration": 132,
    "start_time": "2024-11-21T19:48:54.053Z"
   },
   {
    "duration": 3,
    "start_time": "2024-11-21T19:48:54.187Z"
   },
   {
    "duration": 4,
    "start_time": "2024-11-21T19:48:54.192Z"
   },
   {
    "duration": 7,
    "start_time": "2024-11-21T19:48:54.197Z"
   },
   {
    "duration": 739,
    "start_time": "2024-11-21T20:06:23.435Z"
   },
   {
    "duration": 40,
    "start_time": "2024-11-21T20:06:46.393Z"
   },
   {
    "duration": 41,
    "start_time": "2024-11-21T20:07:01.713Z"
   },
   {
    "duration": 13,
    "start_time": "2024-11-21T20:11:19.066Z"
   },
   {
    "duration": 4,
    "start_time": "2024-11-21T20:12:27.972Z"
   },
   {
    "duration": 5,
    "start_time": "2024-11-21T20:17:58.344Z"
   },
   {
    "duration": 7,
    "start_time": "2024-11-21T20:23:11.033Z"
   },
   {
    "duration": 57,
    "start_time": "2024-11-21T20:23:55.829Z"
   },
   {
    "duration": 775,
    "start_time": "2024-11-21T20:57:53.223Z"
   },
   {
    "duration": 96,
    "start_time": "2024-11-21T20:57:54.000Z"
   },
   {
    "duration": 10,
    "start_time": "2024-11-21T20:57:54.098Z"
   },
   {
    "duration": 2,
    "start_time": "2024-11-21T20:57:54.109Z"
   },
   {
    "duration": 14,
    "start_time": "2024-11-21T20:57:54.115Z"
   },
   {
    "duration": 58,
    "start_time": "2024-11-21T20:57:54.131Z"
   },
   {
    "duration": 53,
    "start_time": "2024-11-21T20:57:54.191Z"
   },
   {
    "duration": 7,
    "start_time": "2024-11-21T20:57:54.245Z"
   },
   {
    "duration": 54,
    "start_time": "2024-11-21T20:57:54.254Z"
   },
   {
    "duration": 7,
    "start_time": "2024-11-21T20:57:54.310Z"
   },
   {
    "duration": 14,
    "start_time": "2024-11-21T20:57:54.319Z"
   },
   {
    "duration": 7,
    "start_time": "2024-11-21T20:57:54.335Z"
   },
   {
    "duration": 40,
    "start_time": "2024-11-21T20:57:54.344Z"
   },
   {
    "duration": 16,
    "start_time": "2024-11-21T20:57:54.387Z"
   },
   {
    "duration": 5,
    "start_time": "2024-11-21T20:57:54.404Z"
   },
   {
    "duration": 4,
    "start_time": "2024-11-21T20:57:54.410Z"
   },
   {
    "duration": 155,
    "start_time": "2024-11-21T20:57:54.415Z"
   },
   {
    "duration": 21,
    "start_time": "2024-11-21T20:57:54.571Z"
   },
   {
    "duration": 26,
    "start_time": "2024-11-21T20:57:54.594Z"
   },
   {
    "duration": 8,
    "start_time": "2024-11-21T20:57:54.621Z"
   },
   {
    "duration": 18,
    "start_time": "2024-11-21T20:57:54.631Z"
   },
   {
    "duration": 36,
    "start_time": "2024-11-21T20:57:54.651Z"
   },
   {
    "duration": 38,
    "start_time": "2024-11-21T20:57:54.689Z"
   },
   {
    "duration": 184,
    "start_time": "2024-11-21T20:57:54.729Z"
   },
   {
    "duration": 4,
    "start_time": "2024-11-21T20:57:54.914Z"
   },
   {
    "duration": 5,
    "start_time": "2024-11-21T20:57:54.919Z"
   },
   {
    "duration": 6,
    "start_time": "2024-11-21T20:57:54.926Z"
   },
   {
    "duration": 5,
    "start_time": "2024-11-21T20:57:54.933Z"
   },
   {
    "duration": 32,
    "start_time": "2024-11-21T20:57:54.939Z"
   },
   {
    "duration": 53,
    "start_time": "2024-11-21T20:57:54.973Z"
   },
   {
    "duration": 11,
    "start_time": "2024-11-21T20:57:56.860Z"
   },
   {
    "duration": 139,
    "start_time": "2024-11-21T20:57:56.873Z"
   },
   {
    "duration": 10,
    "start_time": "2024-11-21T20:57:57.013Z"
   },
   {
    "duration": 3,
    "start_time": "2024-11-21T20:57:57.024Z"
   },
   {
    "duration": 48,
    "start_time": "2024-11-21T20:57:57.029Z"
   },
   {
    "duration": 40,
    "start_time": "2024-11-21T20:57:57.079Z"
   },
   {
    "duration": 68,
    "start_time": "2024-11-21T20:57:57.120Z"
   },
   {
    "duration": 8,
    "start_time": "2024-11-21T20:57:57.190Z"
   },
   {
    "duration": 42,
    "start_time": "2024-11-21T20:57:57.200Z"
   },
   {
    "duration": 7,
    "start_time": "2024-11-21T20:57:57.244Z"
   },
   {
    "duration": 16,
    "start_time": "2024-11-21T20:57:57.270Z"
   },
   {
    "duration": 6,
    "start_time": "2024-11-21T20:57:57.287Z"
   },
   {
    "duration": 23,
    "start_time": "2024-11-21T20:57:57.295Z"
   },
   {
    "duration": 15,
    "start_time": "2024-11-21T20:57:57.320Z"
   },
   {
    "duration": 4,
    "start_time": "2024-11-21T20:57:57.337Z"
   },
   {
    "duration": 5,
    "start_time": "2024-11-21T20:57:57.370Z"
   },
   {
    "duration": 141,
    "start_time": "2024-11-21T20:57:57.376Z"
   },
   {
    "duration": 24,
    "start_time": "2024-11-21T20:57:57.518Z"
   },
   {
    "duration": 36,
    "start_time": "2024-11-21T20:57:57.544Z"
   },
   {
    "duration": 7,
    "start_time": "2024-11-21T20:57:57.582Z"
   },
   {
    "duration": 18,
    "start_time": "2024-11-21T20:57:57.591Z"
   },
   {
    "duration": 18,
    "start_time": "2024-11-21T20:57:57.612Z"
   },
   {
    "duration": 64,
    "start_time": "2024-11-21T20:57:57.631Z"
   },
   {
    "duration": 124,
    "start_time": "2024-11-21T20:57:57.697Z"
   },
   {
    "duration": 4,
    "start_time": "2024-11-21T20:57:57.823Z"
   },
   {
    "duration": 4,
    "start_time": "2024-11-21T20:57:57.829Z"
   },
   {
    "duration": 7,
    "start_time": "2024-11-21T20:57:57.834Z"
   },
   {
    "duration": 29,
    "start_time": "2024-11-21T20:57:57.842Z"
   },
   {
    "duration": 5,
    "start_time": "2024-11-21T20:57:57.872Z"
   },
   {
    "duration": 54,
    "start_time": "2024-11-21T20:57:57.880Z"
   },
   {
    "duration": 23,
    "start_time": "2024-11-21T20:58:54.761Z"
   },
   {
    "duration": 3,
    "start_time": "2024-11-21T21:00:13.937Z"
   },
   {
    "duration": 2501,
    "start_time": "2024-11-21T21:43:32.257Z"
   },
   {
    "duration": 126,
    "start_time": "2024-11-21T21:43:34.760Z"
   },
   {
    "duration": 10,
    "start_time": "2024-11-21T21:43:34.887Z"
   },
   {
    "duration": 2,
    "start_time": "2024-11-21T21:43:34.899Z"
   },
   {
    "duration": 15,
    "start_time": "2024-11-21T21:43:34.904Z"
   },
   {
    "duration": 66,
    "start_time": "2024-11-21T21:43:34.921Z"
   },
   {
    "duration": 52,
    "start_time": "2024-11-21T21:43:34.989Z"
   },
   {
    "duration": 7,
    "start_time": "2024-11-21T21:43:35.043Z"
   },
   {
    "duration": 64,
    "start_time": "2024-11-21T21:43:35.052Z"
   },
   {
    "duration": 7,
    "start_time": "2024-11-21T21:43:35.117Z"
   },
   {
    "duration": 15,
    "start_time": "2024-11-21T21:43:35.126Z"
   },
   {
    "duration": 27,
    "start_time": "2024-11-21T21:43:35.143Z"
   },
   {
    "duration": 25,
    "start_time": "2024-11-21T21:43:35.172Z"
   },
   {
    "duration": 16,
    "start_time": "2024-11-21T21:43:35.201Z"
   },
   {
    "duration": 4,
    "start_time": "2024-11-21T21:43:35.219Z"
   },
   {
    "duration": 4,
    "start_time": "2024-11-21T21:43:35.225Z"
   },
   {
    "duration": 161,
    "start_time": "2024-11-21T21:43:35.231Z"
   },
   {
    "duration": 21,
    "start_time": "2024-11-21T21:43:35.394Z"
   },
   {
    "duration": 26,
    "start_time": "2024-11-21T21:43:35.417Z"
   },
   {
    "duration": 28,
    "start_time": "2024-11-21T21:43:35.445Z"
   },
   {
    "duration": 19,
    "start_time": "2024-11-21T21:43:35.475Z"
   },
   {
    "duration": 19,
    "start_time": "2024-11-21T21:43:35.496Z"
   },
   {
    "duration": 61,
    "start_time": "2024-11-21T21:43:35.516Z"
   },
   {
    "duration": 126,
    "start_time": "2024-11-21T21:43:35.579Z"
   },
   {
    "duration": 4,
    "start_time": "2024-11-21T21:43:35.707Z"
   },
   {
    "duration": 3,
    "start_time": "2024-11-21T21:43:35.713Z"
   },
   {
    "duration": 7,
    "start_time": "2024-11-21T21:43:35.718Z"
   },
   {
    "duration": 4,
    "start_time": "2024-11-21T21:43:35.728Z"
   },
   {
    "duration": 50,
    "start_time": "2024-11-21T21:43:35.733Z"
   },
   {
    "duration": 53,
    "start_time": "2024-11-21T21:43:35.784Z"
   },
   {
    "duration": 2,
    "start_time": "2024-11-21T21:43:35.839Z"
   },
   {
    "duration": 4,
    "start_time": "2024-11-21T22:05:08.494Z"
   },
   {
    "duration": 3,
    "start_time": "2024-11-21T22:18:26.041Z"
   },
   {
    "duration": 193,
    "start_time": "2024-11-21T22:24:47.516Z"
   },
   {
    "duration": 5,
    "start_time": "2024-11-21T22:24:53.523Z"
   },
   {
    "duration": 7,
    "start_time": "2024-11-21T22:27:31.136Z"
   },
   {
    "duration": 6,
    "start_time": "2024-11-21T22:28:35.696Z"
   },
   {
    "duration": 102,
    "start_time": "2024-11-21T22:36:41.463Z"
   },
   {
    "duration": 13,
    "start_time": "2024-11-21T22:37:20.491Z"
   },
   {
    "duration": 672,
    "start_time": "2024-11-21T22:37:31.832Z"
   },
   {
    "duration": 64,
    "start_time": "2024-11-21T22:37:47.471Z"
   },
   {
    "duration": 5,
    "start_time": "2024-11-21T22:48:52.210Z"
   },
   {
    "duration": 20,
    "start_time": "2024-11-21T22:50:17.798Z"
   },
   {
    "duration": 3,
    "start_time": "2024-11-21T22:53:22.926Z"
   },
   {
    "duration": 21,
    "start_time": "2024-11-21T22:53:23.710Z"
   },
   {
    "duration": 20,
    "start_time": "2024-11-21T22:55:54.464Z"
   },
   {
    "duration": 19,
    "start_time": "2024-11-21T22:56:58.230Z"
   },
   {
    "duration": 4,
    "start_time": "2024-11-21T23:30:59.839Z"
   },
   {
    "duration": 6,
    "start_time": "2024-11-21T23:31:05.388Z"
   },
   {
    "duration": 6,
    "start_time": "2024-11-21T23:31:10.369Z"
   },
   {
    "duration": 7,
    "start_time": "2024-11-21T23:31:16.157Z"
   },
   {
    "duration": 4,
    "start_time": "2024-11-21T23:31:22.965Z"
   },
   {
    "duration": 20,
    "start_time": "2024-11-21T23:31:29.058Z"
   },
   {
    "duration": 21,
    "start_time": "2024-11-21T23:31:32.833Z"
   },
   {
    "duration": 138,
    "start_time": "2024-11-21T23:37:21.706Z"
   }
  ],
  "kernelspec": {
   "display_name": "Python 3 (ipykernel)",
   "language": "python",
   "name": "python3"
  },
  "language_info": {
   "codemirror_mode": {
    "name": "ipython",
    "version": 3
   },
   "file_extension": ".py",
   "mimetype": "text/x-python",
   "name": "python",
   "nbconvert_exporter": "python",
   "pygments_lexer": "ipython3",
   "version": "3.9.19"
  },
  "toc": {
   "base_numbering": 1,
   "nav_menu": {},
   "number_sections": true,
   "sideBar": true,
   "skip_h1_title": true,
   "title_cell": "Table of Contents",
   "title_sidebar": "Contents",
   "toc_cell": false,
   "toc_position": {},
   "toc_section_display": true,
   "toc_window_display": false
  }
 },
 "nbformat": 4,
 "nbformat_minor": 2
}
